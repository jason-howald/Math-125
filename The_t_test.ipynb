{
  "nbformat": 4,
  "nbformat_minor": 0,
  "metadata": {
    "colab": {
      "name": "The t test.ipynb",
      "provenance": [],
      "collapsed_sections": [],
      "toc_visible": true,
      "authorship_tag": "ABX9TyMcsloLe9yv/jSD0dOrLitg",
      "include_colab_link": true
    },
    "kernelspec": {
      "name": "python3",
      "display_name": "Python 3"
    }
  },
  "cells": [
    {
      "cell_type": "markdown",
      "metadata": {
        "id": "view-in-github",
        "colab_type": "text"
      },
      "source": [
        "<a href=\"https://colab.research.google.com/github/jason-howald/Math-125/blob/master/The_t_test.ipynb\" target=\"_parent\"><img src=\"https://colab.research.google.com/assets/colab-badge.svg\" alt=\"Open In Colab\"/></a>"
      ]
    },
    {
      "cell_type": "code",
      "metadata": {
        "id": "xKukvMFawFTu",
        "colab_type": "code",
        "colab": {}
      },
      "source": [
        "import pandas as pd\n",
        "from scipy import stats\n",
        "from math import sqrt"
      ],
      "execution_count": 0,
      "outputs": []
    },
    {
      "cell_type": "markdown",
      "metadata": {
        "id": "ljBphxZgwUax",
        "colab_type": "text"
      },
      "source": [
        "# The t-test"
      ]
    },
    {
      "cell_type": "markdown",
      "metadata": {
        "id": "LzJg7uVdwXRE",
        "colab_type": "text"
      },
      "source": [
        "## Recall the Z-test for a mean\n",
        "\n"
      ]
    },
    {
      "cell_type": "markdown",
      "metadata": {
        "id": "ozNzcicC162f",
        "colab_type": "text"
      },
      "source": [
        "\n",
        "- $H_A$: $\\mu > 42$\n",
        "- $H_0$: $\\mu = 42$\n",
        "- Test mechanics\n",
        "  - Sampling\n",
        "  - $n = 25$\n",
        "  - $\\bar{X} = 50$\n",
        "  - $s = 20$\n",
        "  - $SE = \\frac{\\sigma}{\\sqrt{n}}$  \n",
        "    - **Here we plug in $s$ for $\\sigma$.** \n",
        "  - $Z = \\frac{\\text{measured} - \\text{expected}}{SE}$\n",
        "  - Find p-value using:\n",
        "    - [CDF Calculator](https://homepage.divms.uiowa.edu/~mbognar/applets/normal.html)\n",
        "    - ```1 - stats.norm.cdf(Z)```\n",
        "    - Z-table\n",
        "\n",
        "Or sometimes we test two populations against each other. For example:\n",
        "\n",
        "- $H_A$: $\\mu_1 < \\mu_2$\n",
        "- $H_0$: $\\mu_1 = \\mu_2$\n",
        "- Test mechanics\n",
        "  - Sampling\n",
        "  - $n_1 = 100$, $n_2 = 50$\n",
        "  - $\\bar{X}_1 = 50$, $\\bar{X}_2 = 56$\n",
        "  - $s_1 = 20$, $s_2 = 25$\n",
        "  - $SE$: \n",
        "    - $SE_1 = \\frac{\\sigma_1}{\\sqrt{n_1}}$\n",
        "        - **Here we plug in $s_1$ for $\\sigma_1$.** \n",
        "    - $SE_2 = \\frac{\\sigma_2}{\\sqrt{n_2}}$\n",
        "        - **Here we plug in $s_2$ for $\\sigma_2$.** \n",
        "    - $SE = \\sqrt{SE_1^2 + SE_2^2}$ \n",
        "  - $Z = \\frac{\\text{measured difference} - \\text{expected difference}}{SE}$\n",
        "  - Find p-value using:\n",
        "    - [Normal CDF Calculator](https://homepage.divms.uiowa.edu/~mbognar/applets/normal.html)\n",
        "    - ```1 - stats.norm.cdf(Z)```\n",
        "    - Z-table\n"
      ]
    },
    {
      "cell_type": "markdown",
      "metadata": {
        "id": "Bi4eNQZE13Jx",
        "colab_type": "text"
      },
      "source": [
        "## The Problem with the Z-test for mean"
      ]
    },
    {
      "cell_type": "markdown",
      "metadata": {
        "id": "Ip3hIk_M17i7",
        "colab_type": "text"
      },
      "source": [
        "$\\sigma = $ population-wide standard deviation.\n",
        "\n",
        "$s = $ sample standard deviation.\n",
        "\n",
        "In $SE = \\sigma/\\sqrt{n}$, we use $s$ for $\\sigma$. This underestimates the standard error and miscalculates the Z-score."
      ]
    },
    {
      "cell_type": "markdown",
      "metadata": {
        "id": "e9U6cOYd5CRz",
        "colab_type": "text"
      },
      "source": [
        "## The t-test solution\n"
      ]
    },
    {
      "cell_type": "markdown",
      "metadata": {
        "id": "Fdwdza3R5TnF",
        "colab_type": "text"
      },
      "source": [
        "We cannot correct our estimation $\\sigma \\approx s$. (Why?) But we can correct the distribution to which we compare it. \n",
        "\n",
        "**Solution:** \n",
        "  - The **t-statistic** is the **Z-score**, as above.\n",
        "  - The **t-distribution** a modified bell curve, designed to account for the error of using $s$ for $\\sigma$. \n",
        "  - Like the $\\chi^2$ distribution, the t-distribution depends on **degrees of freedom**, which is $n-1$ for a one-sample test (or the lower value of $n-1$ for two samples -- see below).  \n",
        "\n",
        "### Steps of a t-test\n",
        "  - Identical to a Z-test for a mean or a difference of means, except...\n",
        "  - Find p-value using:\n",
        "    - [t-test CDF Calculator](https://homepage.divms.uiowa.edu/~mbognar/applets/t.html)\n",
        "    - ```1 - stats.t.cdf(x,df)```\n",
        "    - t-table (from textbook, or below)\n",
        "\n",
        "...or...\n",
        "\n",
        "- Simply use ```stats.ttest_ind``` or ```stats.ttest_1samp``` which will perform the complete test from raw data."
      ]
    },
    {
      "cell_type": "markdown",
      "metadata": {
        "id": "Eo2jMRUSOrTf",
        "colab_type": "text"
      },
      "source": [
        "# Worked Examples"
      ]
    },
    {
      "cell_type": "markdown",
      "metadata": {
        "id": "R1aLgKqBOrHk",
        "colab_type": "text"
      },
      "source": [
        "## Birth weight -- one-sample test\n",
        "\n"
      ]
    },
    {
      "cell_type": "markdown",
      "metadata": {
        "id": "aV4etcizPELP",
        "colab_type": "text"
      },
      "source": [
        "The dataset below shows birth weight for 1000 newborns. The average is greater than 7 pounds. Is it statistically significantly greater than 7?"
      ]
    },
    {
      "cell_type": "code",
      "metadata": {
        "id": "pt4bgepDOxY2",
        "colab_type": "code",
        "outputId": "d3789efe-7410-459e-e2fe-9048ec5e4625",
        "colab": {
          "base_uri": "https://localhost:8080/",
          "height": 284
        }
      },
      "source": [
        "df = pd.read_csv(\"https://www.openintro.org/stat/data/nc.csv\")\n",
        "df.describe()"
      ],
      "execution_count": 0,
      "outputs": [
        {
          "output_type": "execute_result",
          "data": {
            "text/html": [
              "<div>\n",
              "<style scoped>\n",
              "    .dataframe tbody tr th:only-of-type {\n",
              "        vertical-align: middle;\n",
              "    }\n",
              "\n",
              "    .dataframe tbody tr th {\n",
              "        vertical-align: top;\n",
              "    }\n",
              "\n",
              "    .dataframe thead th {\n",
              "        text-align: right;\n",
              "    }\n",
              "</style>\n",
              "<table border=\"1\" class=\"dataframe\">\n",
              "  <thead>\n",
              "    <tr style=\"text-align: right;\">\n",
              "      <th></th>\n",
              "      <th>fage</th>\n",
              "      <th>mage</th>\n",
              "      <th>weeks</th>\n",
              "      <th>visits</th>\n",
              "      <th>gained</th>\n",
              "      <th>weight</th>\n",
              "    </tr>\n",
              "  </thead>\n",
              "  <tbody>\n",
              "    <tr>\n",
              "      <th>count</th>\n",
              "      <td>829.000000</td>\n",
              "      <td>1000.000000</td>\n",
              "      <td>998.000000</td>\n",
              "      <td>991.000000</td>\n",
              "      <td>973.000000</td>\n",
              "      <td>1000.00000</td>\n",
              "    </tr>\n",
              "    <tr>\n",
              "      <th>mean</th>\n",
              "      <td>30.255730</td>\n",
              "      <td>27.000000</td>\n",
              "      <td>38.334669</td>\n",
              "      <td>12.104945</td>\n",
              "      <td>30.325797</td>\n",
              "      <td>7.10100</td>\n",
              "    </tr>\n",
              "    <tr>\n",
              "      <th>std</th>\n",
              "      <td>6.763766</td>\n",
              "      <td>6.213583</td>\n",
              "      <td>2.931553</td>\n",
              "      <td>3.954934</td>\n",
              "      <td>14.241297</td>\n",
              "      <td>1.50886</td>\n",
              "    </tr>\n",
              "    <tr>\n",
              "      <th>min</th>\n",
              "      <td>14.000000</td>\n",
              "      <td>13.000000</td>\n",
              "      <td>20.000000</td>\n",
              "      <td>0.000000</td>\n",
              "      <td>0.000000</td>\n",
              "      <td>1.00000</td>\n",
              "    </tr>\n",
              "    <tr>\n",
              "      <th>25%</th>\n",
              "      <td>25.000000</td>\n",
              "      <td>22.000000</td>\n",
              "      <td>37.000000</td>\n",
              "      <td>10.000000</td>\n",
              "      <td>20.000000</td>\n",
              "      <td>6.38000</td>\n",
              "    </tr>\n",
              "    <tr>\n",
              "      <th>50%</th>\n",
              "      <td>30.000000</td>\n",
              "      <td>27.000000</td>\n",
              "      <td>39.000000</td>\n",
              "      <td>12.000000</td>\n",
              "      <td>30.000000</td>\n",
              "      <td>7.31000</td>\n",
              "    </tr>\n",
              "    <tr>\n",
              "      <th>75%</th>\n",
              "      <td>35.000000</td>\n",
              "      <td>32.000000</td>\n",
              "      <td>40.000000</td>\n",
              "      <td>15.000000</td>\n",
              "      <td>38.000000</td>\n",
              "      <td>8.06000</td>\n",
              "    </tr>\n",
              "    <tr>\n",
              "      <th>max</th>\n",
              "      <td>55.000000</td>\n",
              "      <td>50.000000</td>\n",
              "      <td>45.000000</td>\n",
              "      <td>30.000000</td>\n",
              "      <td>85.000000</td>\n",
              "      <td>11.75000</td>\n",
              "    </tr>\n",
              "  </tbody>\n",
              "</table>\n",
              "</div>"
            ],
            "text/plain": [
              "             fage         mage       weeks      visits      gained      weight\n",
              "count  829.000000  1000.000000  998.000000  991.000000  973.000000  1000.00000\n",
              "mean    30.255730    27.000000   38.334669   12.104945   30.325797     7.10100\n",
              "std      6.763766     6.213583    2.931553    3.954934   14.241297     1.50886\n",
              "min     14.000000    13.000000   20.000000    0.000000    0.000000     1.00000\n",
              "25%     25.000000    22.000000   37.000000   10.000000   20.000000     6.38000\n",
              "50%     30.000000    27.000000   39.000000   12.000000   30.000000     7.31000\n",
              "75%     35.000000    32.000000   40.000000   15.000000   38.000000     8.06000\n",
              "max     55.000000    50.000000   45.000000   30.000000   85.000000    11.75000"
            ]
          },
          "metadata": {
            "tags": []
          },
          "execution_count": 69
        }
      ]
    },
    {
      "cell_type": "code",
      "metadata": {
        "id": "pUP8mxu5PPf0",
        "colab_type": "code",
        "outputId": "fe5b8618-9f4b-4298-a497-d18bfe6b53c5",
        "colab": {
          "base_uri": "https://localhost:8080/",
          "height": 50
        }
      },
      "source": [
        "#Calculate xbar, s, and n\n",
        "xbar = df.weight.mean()\n",
        "s = df.weight.std()\n",
        "n = df.weight.count()\n",
        "\n",
        "#Calculate SE and Z (aka t)\n",
        "SE = s/sqrt(n)\n",
        "Z = (xbar - 7)/SE\n",
        "\n",
        "print(f\"xbar = {xbar:.3f}, s = {s:.3f}, n = {n}\")\n",
        "print(f\"SE = {SE:.3f}, Z = {Z:.3f}\")"
      ],
      "execution_count": 0,
      "outputs": [
        {
          "output_type": "stream",
          "text": [
            "xbar = 7.101, s = 1.509, n = 1000\n",
            "SE = 0.048, Z = 2.117\n"
          ],
          "name": "stdout"
        }
      ]
    },
    {
      "cell_type": "markdown",
      "metadata": {
        "id": "HVvtf2KWOuZ5",
        "colab_type": "text"
      },
      "source": [
        "### Resolving the test\n",
        "\n",
        "**Option 1:** ```stats.t.cdf()```"
      ]
    },
    {
      "cell_type": "code",
      "metadata": {
        "id": "qyx4YTxwQApL",
        "colab_type": "code",
        "outputId": "e79b967d-75bb-43e4-e9dc-c66abda14f89",
        "colab": {
          "base_uri": "https://localhost:8080/",
          "height": 34
        }
      },
      "source": [
        "# Note! Degrees of freedom = 999\n",
        "pvalue = 1-stats.t.cdf(Z,n-1) \n",
        "pvalue"
      ],
      "execution_count": 0,
      "outputs": [
        {
          "output_type": "execute_result",
          "data": {
            "text/plain": [
              "0.01726331605634479"
            ]
          },
          "metadata": {
            "tags": []
          },
          "execution_count": 71
        }
      ]
    },
    {
      "cell_type": "markdown",
      "metadata": {
        "id": "Yu253rz0QNMG",
        "colab_type": "text"
      },
      "source": [
        "**Option 2:** Online CDF calculator\n",
        "\n",
        "[t CDF Calculator](https://homepage.divms.uiowa.edu/~mbognar/applets/t.html)\n"
      ]
    },
    {
      "cell_type": "markdown",
      "metadata": {
        "id": "_M4G-GlJQoYo",
        "colab_type": "text"
      },
      "source": [
        "**Option 3:** T-table with critical value"
      ]
    },
    {
      "cell_type": "code",
      "metadata": {
        "id": "FIvw7nEmQMeo",
        "colab_type": "code",
        "outputId": "d8fe4232-e6fe-4402-d8a9-b49200447fcd",
        "colab": {
          "base_uri": "https://localhost:8080/",
          "height": 1000
        }
      },
      "source": [
        "#Recalculate and print a standard t table.\n",
        "alphas = [0.1,0.05,0.025,0.01,0.005,0.001]\n",
        "dof = [i for i in range(2,21)] + [5*i for i in range(5,21)] + [100*i for i in range(2,11)]  \n",
        "ttable = pd.DataFrame({alpha:{deg:round(stats.t.ppf(1-alpha,deg),2) for deg in dof} for alpha in alphas})\n",
        "ttable"
      ],
      "execution_count": 0,
      "outputs": [
        {
          "output_type": "execute_result",
          "data": {
            "text/html": [
              "<div>\n",
              "<style scoped>\n",
              "    .dataframe tbody tr th:only-of-type {\n",
              "        vertical-align: middle;\n",
              "    }\n",
              "\n",
              "    .dataframe tbody tr th {\n",
              "        vertical-align: top;\n",
              "    }\n",
              "\n",
              "    .dataframe thead th {\n",
              "        text-align: right;\n",
              "    }\n",
              "</style>\n",
              "<table border=\"1\" class=\"dataframe\">\n",
              "  <thead>\n",
              "    <tr style=\"text-align: right;\">\n",
              "      <th></th>\n",
              "      <th>0.100</th>\n",
              "      <th>0.050</th>\n",
              "      <th>0.025</th>\n",
              "      <th>0.010</th>\n",
              "      <th>0.005</th>\n",
              "      <th>0.001</th>\n",
              "    </tr>\n",
              "  </thead>\n",
              "  <tbody>\n",
              "    <tr>\n",
              "      <th>2</th>\n",
              "      <td>1.89</td>\n",
              "      <td>2.92</td>\n",
              "      <td>4.30</td>\n",
              "      <td>6.96</td>\n",
              "      <td>9.92</td>\n",
              "      <td>22.33</td>\n",
              "    </tr>\n",
              "    <tr>\n",
              "      <th>3</th>\n",
              "      <td>1.64</td>\n",
              "      <td>2.35</td>\n",
              "      <td>3.18</td>\n",
              "      <td>4.54</td>\n",
              "      <td>5.84</td>\n",
              "      <td>10.21</td>\n",
              "    </tr>\n",
              "    <tr>\n",
              "      <th>4</th>\n",
              "      <td>1.53</td>\n",
              "      <td>2.13</td>\n",
              "      <td>2.78</td>\n",
              "      <td>3.75</td>\n",
              "      <td>4.60</td>\n",
              "      <td>7.17</td>\n",
              "    </tr>\n",
              "    <tr>\n",
              "      <th>5</th>\n",
              "      <td>1.48</td>\n",
              "      <td>2.02</td>\n",
              "      <td>2.57</td>\n",
              "      <td>3.36</td>\n",
              "      <td>4.03</td>\n",
              "      <td>5.89</td>\n",
              "    </tr>\n",
              "    <tr>\n",
              "      <th>6</th>\n",
              "      <td>1.44</td>\n",
              "      <td>1.94</td>\n",
              "      <td>2.45</td>\n",
              "      <td>3.14</td>\n",
              "      <td>3.71</td>\n",
              "      <td>5.21</td>\n",
              "    </tr>\n",
              "    <tr>\n",
              "      <th>7</th>\n",
              "      <td>1.41</td>\n",
              "      <td>1.89</td>\n",
              "      <td>2.36</td>\n",
              "      <td>3.00</td>\n",
              "      <td>3.50</td>\n",
              "      <td>4.79</td>\n",
              "    </tr>\n",
              "    <tr>\n",
              "      <th>8</th>\n",
              "      <td>1.40</td>\n",
              "      <td>1.86</td>\n",
              "      <td>2.31</td>\n",
              "      <td>2.90</td>\n",
              "      <td>3.36</td>\n",
              "      <td>4.50</td>\n",
              "    </tr>\n",
              "    <tr>\n",
              "      <th>9</th>\n",
              "      <td>1.38</td>\n",
              "      <td>1.83</td>\n",
              "      <td>2.26</td>\n",
              "      <td>2.82</td>\n",
              "      <td>3.25</td>\n",
              "      <td>4.30</td>\n",
              "    </tr>\n",
              "    <tr>\n",
              "      <th>10</th>\n",
              "      <td>1.37</td>\n",
              "      <td>1.81</td>\n",
              "      <td>2.23</td>\n",
              "      <td>2.76</td>\n",
              "      <td>3.17</td>\n",
              "      <td>4.14</td>\n",
              "    </tr>\n",
              "    <tr>\n",
              "      <th>11</th>\n",
              "      <td>1.36</td>\n",
              "      <td>1.80</td>\n",
              "      <td>2.20</td>\n",
              "      <td>2.72</td>\n",
              "      <td>3.11</td>\n",
              "      <td>4.02</td>\n",
              "    </tr>\n",
              "    <tr>\n",
              "      <th>12</th>\n",
              "      <td>1.36</td>\n",
              "      <td>1.78</td>\n",
              "      <td>2.18</td>\n",
              "      <td>2.68</td>\n",
              "      <td>3.05</td>\n",
              "      <td>3.93</td>\n",
              "    </tr>\n",
              "    <tr>\n",
              "      <th>13</th>\n",
              "      <td>1.35</td>\n",
              "      <td>1.77</td>\n",
              "      <td>2.16</td>\n",
              "      <td>2.65</td>\n",
              "      <td>3.01</td>\n",
              "      <td>3.85</td>\n",
              "    </tr>\n",
              "    <tr>\n",
              "      <th>14</th>\n",
              "      <td>1.35</td>\n",
              "      <td>1.76</td>\n",
              "      <td>2.14</td>\n",
              "      <td>2.62</td>\n",
              "      <td>2.98</td>\n",
              "      <td>3.79</td>\n",
              "    </tr>\n",
              "    <tr>\n",
              "      <th>15</th>\n",
              "      <td>1.34</td>\n",
              "      <td>1.75</td>\n",
              "      <td>2.13</td>\n",
              "      <td>2.60</td>\n",
              "      <td>2.95</td>\n",
              "      <td>3.73</td>\n",
              "    </tr>\n",
              "    <tr>\n",
              "      <th>16</th>\n",
              "      <td>1.34</td>\n",
              "      <td>1.75</td>\n",
              "      <td>2.12</td>\n",
              "      <td>2.58</td>\n",
              "      <td>2.92</td>\n",
              "      <td>3.69</td>\n",
              "    </tr>\n",
              "    <tr>\n",
              "      <th>17</th>\n",
              "      <td>1.33</td>\n",
              "      <td>1.74</td>\n",
              "      <td>2.11</td>\n",
              "      <td>2.57</td>\n",
              "      <td>2.90</td>\n",
              "      <td>3.65</td>\n",
              "    </tr>\n",
              "    <tr>\n",
              "      <th>18</th>\n",
              "      <td>1.33</td>\n",
              "      <td>1.73</td>\n",
              "      <td>2.10</td>\n",
              "      <td>2.55</td>\n",
              "      <td>2.88</td>\n",
              "      <td>3.61</td>\n",
              "    </tr>\n",
              "    <tr>\n",
              "      <th>19</th>\n",
              "      <td>1.33</td>\n",
              "      <td>1.73</td>\n",
              "      <td>2.09</td>\n",
              "      <td>2.54</td>\n",
              "      <td>2.86</td>\n",
              "      <td>3.58</td>\n",
              "    </tr>\n",
              "    <tr>\n",
              "      <th>20</th>\n",
              "      <td>1.33</td>\n",
              "      <td>1.72</td>\n",
              "      <td>2.09</td>\n",
              "      <td>2.53</td>\n",
              "      <td>2.85</td>\n",
              "      <td>3.55</td>\n",
              "    </tr>\n",
              "    <tr>\n",
              "      <th>25</th>\n",
              "      <td>1.32</td>\n",
              "      <td>1.71</td>\n",
              "      <td>2.06</td>\n",
              "      <td>2.49</td>\n",
              "      <td>2.79</td>\n",
              "      <td>3.45</td>\n",
              "    </tr>\n",
              "    <tr>\n",
              "      <th>30</th>\n",
              "      <td>1.31</td>\n",
              "      <td>1.70</td>\n",
              "      <td>2.04</td>\n",
              "      <td>2.46</td>\n",
              "      <td>2.75</td>\n",
              "      <td>3.39</td>\n",
              "    </tr>\n",
              "    <tr>\n",
              "      <th>35</th>\n",
              "      <td>1.31</td>\n",
              "      <td>1.69</td>\n",
              "      <td>2.03</td>\n",
              "      <td>2.44</td>\n",
              "      <td>2.72</td>\n",
              "      <td>3.34</td>\n",
              "    </tr>\n",
              "    <tr>\n",
              "      <th>40</th>\n",
              "      <td>1.30</td>\n",
              "      <td>1.68</td>\n",
              "      <td>2.02</td>\n",
              "      <td>2.42</td>\n",
              "      <td>2.70</td>\n",
              "      <td>3.31</td>\n",
              "    </tr>\n",
              "    <tr>\n",
              "      <th>45</th>\n",
              "      <td>1.30</td>\n",
              "      <td>1.68</td>\n",
              "      <td>2.01</td>\n",
              "      <td>2.41</td>\n",
              "      <td>2.69</td>\n",
              "      <td>3.28</td>\n",
              "    </tr>\n",
              "    <tr>\n",
              "      <th>50</th>\n",
              "      <td>1.30</td>\n",
              "      <td>1.68</td>\n",
              "      <td>2.01</td>\n",
              "      <td>2.40</td>\n",
              "      <td>2.68</td>\n",
              "      <td>3.26</td>\n",
              "    </tr>\n",
              "    <tr>\n",
              "      <th>55</th>\n",
              "      <td>1.30</td>\n",
              "      <td>1.67</td>\n",
              "      <td>2.00</td>\n",
              "      <td>2.40</td>\n",
              "      <td>2.67</td>\n",
              "      <td>3.25</td>\n",
              "    </tr>\n",
              "    <tr>\n",
              "      <th>60</th>\n",
              "      <td>1.30</td>\n",
              "      <td>1.67</td>\n",
              "      <td>2.00</td>\n",
              "      <td>2.39</td>\n",
              "      <td>2.66</td>\n",
              "      <td>3.23</td>\n",
              "    </tr>\n",
              "    <tr>\n",
              "      <th>65</th>\n",
              "      <td>1.29</td>\n",
              "      <td>1.67</td>\n",
              "      <td>2.00</td>\n",
              "      <td>2.39</td>\n",
              "      <td>2.65</td>\n",
              "      <td>3.22</td>\n",
              "    </tr>\n",
              "    <tr>\n",
              "      <th>70</th>\n",
              "      <td>1.29</td>\n",
              "      <td>1.67</td>\n",
              "      <td>1.99</td>\n",
              "      <td>2.38</td>\n",
              "      <td>2.65</td>\n",
              "      <td>3.21</td>\n",
              "    </tr>\n",
              "    <tr>\n",
              "      <th>75</th>\n",
              "      <td>1.29</td>\n",
              "      <td>1.67</td>\n",
              "      <td>1.99</td>\n",
              "      <td>2.38</td>\n",
              "      <td>2.64</td>\n",
              "      <td>3.20</td>\n",
              "    </tr>\n",
              "    <tr>\n",
              "      <th>80</th>\n",
              "      <td>1.29</td>\n",
              "      <td>1.66</td>\n",
              "      <td>1.99</td>\n",
              "      <td>2.37</td>\n",
              "      <td>2.64</td>\n",
              "      <td>3.20</td>\n",
              "    </tr>\n",
              "    <tr>\n",
              "      <th>85</th>\n",
              "      <td>1.29</td>\n",
              "      <td>1.66</td>\n",
              "      <td>1.99</td>\n",
              "      <td>2.37</td>\n",
              "      <td>2.63</td>\n",
              "      <td>3.19</td>\n",
              "    </tr>\n",
              "    <tr>\n",
              "      <th>90</th>\n",
              "      <td>1.29</td>\n",
              "      <td>1.66</td>\n",
              "      <td>1.99</td>\n",
              "      <td>2.37</td>\n",
              "      <td>2.63</td>\n",
              "      <td>3.18</td>\n",
              "    </tr>\n",
              "    <tr>\n",
              "      <th>95</th>\n",
              "      <td>1.29</td>\n",
              "      <td>1.66</td>\n",
              "      <td>1.99</td>\n",
              "      <td>2.37</td>\n",
              "      <td>2.63</td>\n",
              "      <td>3.18</td>\n",
              "    </tr>\n",
              "    <tr>\n",
              "      <th>100</th>\n",
              "      <td>1.29</td>\n",
              "      <td>1.66</td>\n",
              "      <td>1.98</td>\n",
              "      <td>2.36</td>\n",
              "      <td>2.63</td>\n",
              "      <td>3.17</td>\n",
              "    </tr>\n",
              "    <tr>\n",
              "      <th>200</th>\n",
              "      <td>1.29</td>\n",
              "      <td>1.65</td>\n",
              "      <td>1.97</td>\n",
              "      <td>2.35</td>\n",
              "      <td>2.60</td>\n",
              "      <td>3.13</td>\n",
              "    </tr>\n",
              "    <tr>\n",
              "      <th>300</th>\n",
              "      <td>1.28</td>\n",
              "      <td>1.65</td>\n",
              "      <td>1.97</td>\n",
              "      <td>2.34</td>\n",
              "      <td>2.59</td>\n",
              "      <td>3.12</td>\n",
              "    </tr>\n",
              "    <tr>\n",
              "      <th>400</th>\n",
              "      <td>1.28</td>\n",
              "      <td>1.65</td>\n",
              "      <td>1.97</td>\n",
              "      <td>2.34</td>\n",
              "      <td>2.59</td>\n",
              "      <td>3.11</td>\n",
              "    </tr>\n",
              "    <tr>\n",
              "      <th>500</th>\n",
              "      <td>1.28</td>\n",
              "      <td>1.65</td>\n",
              "      <td>1.96</td>\n",
              "      <td>2.33</td>\n",
              "      <td>2.59</td>\n",
              "      <td>3.11</td>\n",
              "    </tr>\n",
              "    <tr>\n",
              "      <th>600</th>\n",
              "      <td>1.28</td>\n",
              "      <td>1.65</td>\n",
              "      <td>1.96</td>\n",
              "      <td>2.33</td>\n",
              "      <td>2.58</td>\n",
              "      <td>3.10</td>\n",
              "    </tr>\n",
              "    <tr>\n",
              "      <th>700</th>\n",
              "      <td>1.28</td>\n",
              "      <td>1.65</td>\n",
              "      <td>1.96</td>\n",
              "      <td>2.33</td>\n",
              "      <td>2.58</td>\n",
              "      <td>3.10</td>\n",
              "    </tr>\n",
              "    <tr>\n",
              "      <th>800</th>\n",
              "      <td>1.28</td>\n",
              "      <td>1.65</td>\n",
              "      <td>1.96</td>\n",
              "      <td>2.33</td>\n",
              "      <td>2.58</td>\n",
              "      <td>3.10</td>\n",
              "    </tr>\n",
              "    <tr>\n",
              "      <th>900</th>\n",
              "      <td>1.28</td>\n",
              "      <td>1.65</td>\n",
              "      <td>1.96</td>\n",
              "      <td>2.33</td>\n",
              "      <td>2.58</td>\n",
              "      <td>3.10</td>\n",
              "    </tr>\n",
              "    <tr>\n",
              "      <th>1000</th>\n",
              "      <td>1.28</td>\n",
              "      <td>1.65</td>\n",
              "      <td>1.96</td>\n",
              "      <td>2.33</td>\n",
              "      <td>2.58</td>\n",
              "      <td>3.10</td>\n",
              "    </tr>\n",
              "  </tbody>\n",
              "</table>\n",
              "</div>"
            ],
            "text/plain": [
              "      0.100  0.050  0.025  0.010  0.005  0.001\n",
              "2      1.89   2.92   4.30   6.96   9.92  22.33\n",
              "3      1.64   2.35   3.18   4.54   5.84  10.21\n",
              "4      1.53   2.13   2.78   3.75   4.60   7.17\n",
              "5      1.48   2.02   2.57   3.36   4.03   5.89\n",
              "6      1.44   1.94   2.45   3.14   3.71   5.21\n",
              "7      1.41   1.89   2.36   3.00   3.50   4.79\n",
              "8      1.40   1.86   2.31   2.90   3.36   4.50\n",
              "9      1.38   1.83   2.26   2.82   3.25   4.30\n",
              "10     1.37   1.81   2.23   2.76   3.17   4.14\n",
              "11     1.36   1.80   2.20   2.72   3.11   4.02\n",
              "12     1.36   1.78   2.18   2.68   3.05   3.93\n",
              "13     1.35   1.77   2.16   2.65   3.01   3.85\n",
              "14     1.35   1.76   2.14   2.62   2.98   3.79\n",
              "15     1.34   1.75   2.13   2.60   2.95   3.73\n",
              "16     1.34   1.75   2.12   2.58   2.92   3.69\n",
              "17     1.33   1.74   2.11   2.57   2.90   3.65\n",
              "18     1.33   1.73   2.10   2.55   2.88   3.61\n",
              "19     1.33   1.73   2.09   2.54   2.86   3.58\n",
              "20     1.33   1.72   2.09   2.53   2.85   3.55\n",
              "25     1.32   1.71   2.06   2.49   2.79   3.45\n",
              "30     1.31   1.70   2.04   2.46   2.75   3.39\n",
              "35     1.31   1.69   2.03   2.44   2.72   3.34\n",
              "40     1.30   1.68   2.02   2.42   2.70   3.31\n",
              "45     1.30   1.68   2.01   2.41   2.69   3.28\n",
              "50     1.30   1.68   2.01   2.40   2.68   3.26\n",
              "55     1.30   1.67   2.00   2.40   2.67   3.25\n",
              "60     1.30   1.67   2.00   2.39   2.66   3.23\n",
              "65     1.29   1.67   2.00   2.39   2.65   3.22\n",
              "70     1.29   1.67   1.99   2.38   2.65   3.21\n",
              "75     1.29   1.67   1.99   2.38   2.64   3.20\n",
              "80     1.29   1.66   1.99   2.37   2.64   3.20\n",
              "85     1.29   1.66   1.99   2.37   2.63   3.19\n",
              "90     1.29   1.66   1.99   2.37   2.63   3.18\n",
              "95     1.29   1.66   1.99   2.37   2.63   3.18\n",
              "100    1.29   1.66   1.98   2.36   2.63   3.17\n",
              "200    1.29   1.65   1.97   2.35   2.60   3.13\n",
              "300    1.28   1.65   1.97   2.34   2.59   3.12\n",
              "400    1.28   1.65   1.97   2.34   2.59   3.11\n",
              "500    1.28   1.65   1.96   2.33   2.59   3.11\n",
              "600    1.28   1.65   1.96   2.33   2.58   3.10\n",
              "700    1.28   1.65   1.96   2.33   2.58   3.10\n",
              "800    1.28   1.65   1.96   2.33   2.58   3.10\n",
              "900    1.28   1.65   1.96   2.33   2.58   3.10\n",
              "1000   1.28   1.65   1.96   2.33   2.58   3.10"
            ]
          },
          "metadata": {
            "tags": []
          },
          "execution_count": 72
        }
      ]
    },
    {
      "cell_type": "markdown",
      "metadata": {
        "id": "UqfFWYS-RBS8",
        "colab_type": "text"
      },
      "source": [
        "**...Or...** Fully automated test from data:\n"
      ]
    },
    {
      "cell_type": "code",
      "metadata": {
        "id": "g4XrAjGJRHW7",
        "colab_type": "code",
        "outputId": "1067af44-16af-48b7-cd7e-36c424c360bb",
        "colab": {
          "base_uri": "https://localhost:8080/",
          "height": 34
        }
      },
      "source": [
        "stats.ttest_1samp(df.weight,7)"
      ],
      "execution_count": 0,
      "outputs": [
        {
          "output_type": "execute_result",
          "data": {
            "text/plain": [
              "Ttest_1sampResult(statistic=2.1167635856946134, pvalue=0.034526632112740416)"
            ]
          },
          "metadata": {
            "tags": []
          },
          "execution_count": 73
        }
      ]
    },
    {
      "cell_type": "markdown",
      "metadata": {
        "id": "Js3Z0V8wSCFS",
        "colab_type": "text"
      },
      "source": [
        "**...Why is the p-value different!?**"
      ]
    },
    {
      "cell_type": "markdown",
      "metadata": {
        "id": "aoRwQOVzKHkl",
        "colab_type": "text"
      },
      "source": [
        "## Blood transfusions -- two sample test"
      ]
    },
    {
      "cell_type": "markdown",
      "metadata": {
        "id": "nxEBthi-KLgK",
        "colab_type": "text"
      },
      "source": [
        "30 Mice receive blood transfusions. Their energy level is later measured by runtime on an exercise wheel. Mice receiving younger blood run longer. Is the result significant?\n",
        "\n",
        "This requires a two sample test. The SE will be more complicated."
      ]
    },
    {
      "cell_type": "code",
      "metadata": {
        "id": "zQ68LjZILNDc",
        "colab_type": "code",
        "outputId": "939addec-a5de-4025-8e96-81d64e9c2d6a",
        "colab": {
          "base_uri": "https://localhost:8080/",
          "height": 50
        }
      },
      "source": [
        "#Load data and split into old/young samples\n",
        "df = pd.read_csv(\"http://www.lock5stat.com/datasets/YoungBlood.csv\")\n",
        "old = df[df.Plasma == 'Old']['Runtime']\n",
        "young = df[df.Plasma == 'Young']['Runtime']\n",
        "\n",
        "#Calculate xbar, s, n for old sample\n",
        "xbar1 = old.mean()\n",
        "s1 = old.std()\n",
        "n1 = old.count()\n",
        "\n",
        "#Calculate xbar, s, n for young sample\n",
        "xbar2 = young.mean()\n",
        "s2 = young.std()\n",
        "n2 = young.count()\n",
        "\n",
        "#Calculate SE1, SE2, SE\n",
        "SE1 = s1 / sqrt(n1)\n",
        "SE2 = s2 / sqrt(n2)\n",
        "SE = sqrt(SE1**2+SE2**2)\n",
        "\n",
        "#Calculate Z-score:\n",
        "Z = ((xbar2-xbar1) - 0) / SE\n",
        "print(n1,n2)\n",
        "print(Z)"
      ],
      "execution_count": 0,
      "outputs": [
        {
          "output_type": "stream",
          "text": [
            "13 17\n",
            "3.1996880278567925\n"
          ],
          "name": "stdout"
        }
      ]
    },
    {
      "cell_type": "markdown",
      "metadata": {
        "id": "Qgc4dGpTaeuB",
        "colab_type": "text"
      },
      "source": [
        "**Resolving the test**\n",
        "\n",
        "**Option 1:**"
      ]
    },
    {
      "cell_type": "code",
      "metadata": {
        "id": "VFUg8GY2ZKOk",
        "colab_type": "code",
        "outputId": "0ae4dfa3-fb35-44b2-9cfe-a0f06b0777db",
        "colab": {
          "base_uri": "https://localhost:8080/",
          "height": 34
        }
      },
      "source": [
        "pvalue = 1-stats.t.cdf(Z,12)\n",
        "pvalue"
      ],
      "execution_count": 0,
      "outputs": [
        {
          "output_type": "execute_result",
          "data": {
            "text/plain": [
              "0.003818479527244345"
            ]
          },
          "metadata": {
            "tags": []
          },
          "execution_count": 59
        }
      ]
    },
    {
      "cell_type": "markdown",
      "metadata": {
        "id": "CCKHGloVaq3O",
        "colab_type": "text"
      },
      "source": [
        "**Option 2:** Online CDF calculator\n",
        "\n",
        "[t CDF Calculator](https://homepage.divms.uiowa.edu/~mbognar/applets/t.html)\n"
      ]
    },
    {
      "cell_type": "markdown",
      "metadata": {
        "id": "wTyo9zCEa2s4",
        "colab_type": "text"
      },
      "source": [
        "**Option 3: T table**"
      ]
    },
    {
      "cell_type": "code",
      "metadata": {
        "id": "bmofPk_jZkQK",
        "colab_type": "code",
        "colab": {}
      },
      "source": [
        "ttable"
      ],
      "execution_count": 0,
      "outputs": []
    },
    {
      "cell_type": "markdown",
      "metadata": {
        "id": "hugeLGjEa7Nv",
        "colab_type": "text"
      },
      "source": [
        "### Alternative: Fully automated test"
      ]
    },
    {
      "cell_type": "code",
      "metadata": {
        "id": "xuDAS39xTnTJ",
        "colab_type": "code",
        "outputId": "86d3a466-0485-47d5-84d7-5afc76734afb",
        "colab": {
          "base_uri": "https://localhost:8080/",
          "height": 34
        }
      },
      "source": [
        "stats.ttest_ind(young, old, equal_var = False)"
      ],
      "execution_count": 0,
      "outputs": [
        {
          "output_type": "execute_result",
          "data": {
            "text/plain": [
              "Ttest_indResult(statistic=3.199688027856792, pvalue=0.0035016731537913415)"
            ]
          },
          "metadata": {
            "tags": []
          },
          "execution_count": 76
        }
      ]
    },
    {
      "cell_type": "markdown",
      "metadata": {
        "id": "FDOcF1tPbFcp",
        "colab_type": "text"
      },
      "source": [
        "The p-value will be slightly different because:\n",
        "- It calculate a two-sided test. Divide it by two if you want one-sided.\n",
        "- It uses a more sophisticated formula for degrees of freedom.\n"
      ]
    },
    {
      "cell_type": "markdown",
      "metadata": {
        "colab_type": "text",
        "id": "lY50RegVbpuh"
      },
      "source": [
        "## Marriage ages -- paired sample test\n",
        "\n",
        "Are husbands older than their wives?"
      ]
    },
    {
      "cell_type": "markdown",
      "metadata": {
        "id": "tsk9K2NbfzpR",
        "colab_type": "text"
      },
      "source": [
        "### The Data"
      ]
    },
    {
      "cell_type": "markdown",
      "metadata": {
        "id": "bc69Iyllj8Xv",
        "colab_type": "text"
      },
      "source": [
        "First we load the data"
      ]
    },
    {
      "cell_type": "code",
      "metadata": {
        "id": "mz_1MOGThP9B",
        "colab_type": "code",
        "outputId": "bfc07f82-a5dc-4653-8db6-6212fddb91cf",
        "colab": {
          "base_uri": "https://localhost:8080/",
          "height": 402
        }
      },
      "source": [
        "df = pd.read_csv(\"http://www.lock5stat.com/datasets/MarriageAges.csv\")\n",
        "df"
      ],
      "execution_count": 0,
      "outputs": [
        {
          "output_type": "execute_result",
          "data": {
            "text/html": [
              "<div>\n",
              "<style scoped>\n",
              "    .dataframe tbody tr th:only-of-type {\n",
              "        vertical-align: middle;\n",
              "    }\n",
              "\n",
              "    .dataframe tbody tr th {\n",
              "        vertical-align: top;\n",
              "    }\n",
              "\n",
              "    .dataframe thead th {\n",
              "        text-align: right;\n",
              "    }\n",
              "</style>\n",
              "<table border=\"1\" class=\"dataframe\">\n",
              "  <thead>\n",
              "    <tr style=\"text-align: right;\">\n",
              "      <th></th>\n",
              "      <th>Husband</th>\n",
              "      <th>Wife</th>\n",
              "    </tr>\n",
              "  </thead>\n",
              "  <tbody>\n",
              "    <tr>\n",
              "      <th>0</th>\n",
              "      <td>53</td>\n",
              "      <td>50</td>\n",
              "    </tr>\n",
              "    <tr>\n",
              "      <th>1</th>\n",
              "      <td>38</td>\n",
              "      <td>34</td>\n",
              "    </tr>\n",
              "    <tr>\n",
              "      <th>2</th>\n",
              "      <td>46</td>\n",
              "      <td>44</td>\n",
              "    </tr>\n",
              "    <tr>\n",
              "      <th>3</th>\n",
              "      <td>30</td>\n",
              "      <td>36</td>\n",
              "    </tr>\n",
              "    <tr>\n",
              "      <th>4</th>\n",
              "      <td>31</td>\n",
              "      <td>23</td>\n",
              "    </tr>\n",
              "    <tr>\n",
              "      <th>...</th>\n",
              "      <td>...</td>\n",
              "      <td>...</td>\n",
              "    </tr>\n",
              "    <tr>\n",
              "      <th>100</th>\n",
              "      <td>20</td>\n",
              "      <td>18</td>\n",
              "    </tr>\n",
              "    <tr>\n",
              "      <th>101</th>\n",
              "      <td>67</td>\n",
              "      <td>68</td>\n",
              "    </tr>\n",
              "    <tr>\n",
              "      <th>102</th>\n",
              "      <td>29</td>\n",
              "      <td>27</td>\n",
              "    </tr>\n",
              "    <tr>\n",
              "      <th>103</th>\n",
              "      <td>49</td>\n",
              "      <td>51</td>\n",
              "    </tr>\n",
              "    <tr>\n",
              "      <th>104</th>\n",
              "      <td>45</td>\n",
              "      <td>40</td>\n",
              "    </tr>\n",
              "  </tbody>\n",
              "</table>\n",
              "<p>105 rows × 2 columns</p>\n",
              "</div>"
            ],
            "text/plain": [
              "     Husband  Wife\n",
              "0         53    50\n",
              "1         38    34\n",
              "2         46    44\n",
              "3         30    36\n",
              "4         31    23\n",
              "..       ...   ...\n",
              "100       20    18\n",
              "101       67    68\n",
              "102       29    27\n",
              "103       49    51\n",
              "104       45    40\n",
              "\n",
              "[105 rows x 2 columns]"
            ]
          },
          "metadata": {
            "tags": []
          },
          "execution_count": 78
        }
      ]
    },
    {
      "cell_type": "markdown",
      "metadata": {
        "id": "VY7NGrNNf5bv",
        "colab_type": "text"
      },
      "source": [
        "### The Quick and Easy and Wrong way"
      ]
    },
    {
      "cell_type": "markdown",
      "metadata": {
        "id": "R4akDYZMkQC_",
        "colab_type": "text"
      },
      "source": [
        "- We use `stats.ttest_ind()`\n",
        "- Unpaired test, not advisable here.\n",
        "- We could also do this by hand, like the blood transfusions example.\n"
      ]
    },
    {
      "cell_type": "code",
      "metadata": {
        "id": "-HBt193VjsfE",
        "colab_type": "code",
        "outputId": "a0eb4dec-46e2-4d9d-fe96-3498bc553931",
        "colab": {
          "base_uri": "https://localhost:8080/",
          "height": 34
        }
      },
      "source": [
        "stats.ttest_ind(df['Husband'],df['Wife'])"
      ],
      "execution_count": 0,
      "outputs": [
        {
          "output_type": "execute_result",
          "data": {
            "text/plain": [
              "Ttest_indResult(statistic=1.805503202597793, pvalue=0.0724418917066719)"
            ]
          },
          "metadata": {
            "tags": []
          },
          "execution_count": 79
        }
      ]
    },
    {
      "cell_type": "markdown",
      "metadata": {
        "id": "59ADnhYlp0R3",
        "colab_type": "text"
      },
      "source": [
        "Using an unpaired test, we get a p-value greater than 0.05, so we do not have a statistically significant result. "
      ]
    },
    {
      "cell_type": "markdown",
      "metadata": {
        "id": "r_XE8yfMf-3e",
        "colab_type": "text"
      },
      "source": [
        "### The Right Way"
      ]
    },
    {
      "cell_type": "markdown",
      "metadata": {
        "id": "wf95G-JxcXPX",
        "colab_type": "text"
      },
      "source": [
        "**The Flaw:** We have compared husbands, *generally*, to wives, *generally*. There is no strong trend that shows that the men are older than the women. \n",
        "\n",
        "**The Fix:** \n",
        "  - We should compare husbands, individually, to their wives, individually. \n",
        "  - We should reason about age differences within each marriage.\n",
        "  - The data are **paired**: Each husband has a wife and each wife has a husband.\n",
        "\n",
        "**The process:** Instead of treating our data as two independent samples, we treat it as **one variable** of age **differences**:\n"
      ]
    },
    {
      "cell_type": "markdown",
      "metadata": {
        "id": "f60TiIaKkwsZ",
        "colab_type": "text"
      },
      "source": [
        "#### Fully Automated:"
      ]
    },
    {
      "cell_type": "code",
      "metadata": {
        "id": "vH26W430kGRA",
        "colab_type": "code",
        "outputId": "b23f03d0-559a-4bf9-e364-4c4a53b3bcdf",
        "colab": {
          "base_uri": "https://localhost:8080/",
          "height": 34
        }
      },
      "source": [
        "df['Difference'] = df['Husband']-df['Wife']\n",
        "stats.ttest_1samp(df['Difference'],0)\n"
      ],
      "execution_count": 0,
      "outputs": [
        {
          "output_type": "execute_result",
          "data": {
            "text/plain": [
              "Ttest_1sampResult(statistic=5.802524207370071, pvalue=7.120798132262502e-08)"
            ]
          },
          "metadata": {
            "tags": []
          },
          "execution_count": 81
        }
      ]
    },
    {
      "cell_type": "markdown",
      "metadata": {
        "id": "beoHONDoqDYJ",
        "colab_type": "text"
      },
      "source": [
        "The p-value is very very small. We conclude that husbands are older than their wives."
      ]
    },
    {
      "cell_type": "markdown",
      "metadata": {
        "id": "j8rUSOrddALF",
        "colab_type": "text"
      },
      "source": [
        "#### By hand:\n"
      ]
    },
    {
      "cell_type": "code",
      "metadata": {
        "id": "N5_78YRBdJ7q",
        "colab_type": "code",
        "outputId": "18436abf-e8c7-43e1-ac57-b9444f7f0d4c",
        "colab": {
          "base_uri": "https://localhost:8080/",
          "height": 50
        }
      },
      "source": [
        "#Calculate xbar, s, and n\n",
        "xbar = df.Difference.mean()\n",
        "s = df.Difference.std()\n",
        "n = df.Difference.count()\n",
        "\n",
        "#Calculate SE and Z (aka t)\n",
        "SE = s/sqrt(n)\n",
        "Z = (xbar - 0)/SE\n",
        "\n",
        "print(f\"xbar = {xbar:.3f}, s = {s:.3f}, n = {n}\")\n",
        "print(f\"SE = {SE:.3f}, Z = {Z:.3f}\")"
      ],
      "execution_count": 0,
      "outputs": [
        {
          "output_type": "stream",
          "text": [
            "xbar = 2.829, s = 4.995, n = 105\n",
            "SE = 0.487, Z = 5.803\n"
          ],
          "name": "stdout"
        }
      ]
    },
    {
      "cell_type": "markdown",
      "metadata": {
        "id": "F5YVCLB6dS9c",
        "colab_type": "text"
      },
      "source": [
        "##### Resolving the test\n",
        "\n",
        "**Option 1:**"
      ]
    },
    {
      "cell_type": "code",
      "metadata": {
        "id": "ZZEtUsjkdWPC",
        "colab_type": "code",
        "outputId": "a7c7912e-153c-4960-c003-97caca471eaa",
        "colab": {
          "base_uri": "https://localhost:8080/",
          "height": 34
        }
      },
      "source": [
        "1-stats.t.cdf(Z,104)"
      ],
      "execution_count": 0,
      "outputs": [
        {
          "output_type": "execute_result",
          "data": {
            "text/plain": [
              "3.5603990644617056e-08"
            ]
          },
          "metadata": {
            "tags": []
          },
          "execution_count": 66
        }
      ]
    },
    {
      "cell_type": "markdown",
      "metadata": {
        "colab_type": "text",
        "id": "NQWVeI3Lbpu3"
      },
      "source": [
        "**Option 2:** Online CDF calculator\n",
        "\n",
        "[t CDF Calculator](https://homepage.divms.uiowa.edu/~mbognar/applets/t.html)"
      ]
    },
    {
      "cell_type": "markdown",
      "metadata": {
        "colab_type": "text",
        "id": "6dPur9B2dmOY"
      },
      "source": [
        "**Option 3: T table**"
      ]
    },
    {
      "cell_type": "code",
      "metadata": {
        "colab_type": "code",
        "id": "jB45upwKdmOa",
        "outputId": "c72304a6-ae0f-41a9-d7d1-ee03ef984ead",
        "colab": {
          "base_uri": "https://localhost:8080/",
          "height": 1000
        }
      },
      "source": [
        "ttable"
      ],
      "execution_count": 0,
      "outputs": [
        {
          "output_type": "execute_result",
          "data": {
            "text/html": [
              "<div>\n",
              "<style scoped>\n",
              "    .dataframe tbody tr th:only-of-type {\n",
              "        vertical-align: middle;\n",
              "    }\n",
              "\n",
              "    .dataframe tbody tr th {\n",
              "        vertical-align: top;\n",
              "    }\n",
              "\n",
              "    .dataframe thead th {\n",
              "        text-align: right;\n",
              "    }\n",
              "</style>\n",
              "<table border=\"1\" class=\"dataframe\">\n",
              "  <thead>\n",
              "    <tr style=\"text-align: right;\">\n",
              "      <th></th>\n",
              "      <th>0.100</th>\n",
              "      <th>0.050</th>\n",
              "      <th>0.025</th>\n",
              "      <th>0.010</th>\n",
              "      <th>0.005</th>\n",
              "      <th>0.001</th>\n",
              "    </tr>\n",
              "  </thead>\n",
              "  <tbody>\n",
              "    <tr>\n",
              "      <th>2</th>\n",
              "      <td>1.89</td>\n",
              "      <td>2.92</td>\n",
              "      <td>4.30</td>\n",
              "      <td>6.96</td>\n",
              "      <td>9.92</td>\n",
              "      <td>22.33</td>\n",
              "    </tr>\n",
              "    <tr>\n",
              "      <th>3</th>\n",
              "      <td>1.64</td>\n",
              "      <td>2.35</td>\n",
              "      <td>3.18</td>\n",
              "      <td>4.54</td>\n",
              "      <td>5.84</td>\n",
              "      <td>10.21</td>\n",
              "    </tr>\n",
              "    <tr>\n",
              "      <th>4</th>\n",
              "      <td>1.53</td>\n",
              "      <td>2.13</td>\n",
              "      <td>2.78</td>\n",
              "      <td>3.75</td>\n",
              "      <td>4.60</td>\n",
              "      <td>7.17</td>\n",
              "    </tr>\n",
              "    <tr>\n",
              "      <th>5</th>\n",
              "      <td>1.48</td>\n",
              "      <td>2.02</td>\n",
              "      <td>2.57</td>\n",
              "      <td>3.36</td>\n",
              "      <td>4.03</td>\n",
              "      <td>5.89</td>\n",
              "    </tr>\n",
              "    <tr>\n",
              "      <th>6</th>\n",
              "      <td>1.44</td>\n",
              "      <td>1.94</td>\n",
              "      <td>2.45</td>\n",
              "      <td>3.14</td>\n",
              "      <td>3.71</td>\n",
              "      <td>5.21</td>\n",
              "    </tr>\n",
              "    <tr>\n",
              "      <th>7</th>\n",
              "      <td>1.41</td>\n",
              "      <td>1.89</td>\n",
              "      <td>2.36</td>\n",
              "      <td>3.00</td>\n",
              "      <td>3.50</td>\n",
              "      <td>4.79</td>\n",
              "    </tr>\n",
              "    <tr>\n",
              "      <th>8</th>\n",
              "      <td>1.40</td>\n",
              "      <td>1.86</td>\n",
              "      <td>2.31</td>\n",
              "      <td>2.90</td>\n",
              "      <td>3.36</td>\n",
              "      <td>4.50</td>\n",
              "    </tr>\n",
              "    <tr>\n",
              "      <th>9</th>\n",
              "      <td>1.38</td>\n",
              "      <td>1.83</td>\n",
              "      <td>2.26</td>\n",
              "      <td>2.82</td>\n",
              "      <td>3.25</td>\n",
              "      <td>4.30</td>\n",
              "    </tr>\n",
              "    <tr>\n",
              "      <th>10</th>\n",
              "      <td>1.37</td>\n",
              "      <td>1.81</td>\n",
              "      <td>2.23</td>\n",
              "      <td>2.76</td>\n",
              "      <td>3.17</td>\n",
              "      <td>4.14</td>\n",
              "    </tr>\n",
              "    <tr>\n",
              "      <th>11</th>\n",
              "      <td>1.36</td>\n",
              "      <td>1.80</td>\n",
              "      <td>2.20</td>\n",
              "      <td>2.72</td>\n",
              "      <td>3.11</td>\n",
              "      <td>4.02</td>\n",
              "    </tr>\n",
              "    <tr>\n",
              "      <th>12</th>\n",
              "      <td>1.36</td>\n",
              "      <td>1.78</td>\n",
              "      <td>2.18</td>\n",
              "      <td>2.68</td>\n",
              "      <td>3.05</td>\n",
              "      <td>3.93</td>\n",
              "    </tr>\n",
              "    <tr>\n",
              "      <th>13</th>\n",
              "      <td>1.35</td>\n",
              "      <td>1.77</td>\n",
              "      <td>2.16</td>\n",
              "      <td>2.65</td>\n",
              "      <td>3.01</td>\n",
              "      <td>3.85</td>\n",
              "    </tr>\n",
              "    <tr>\n",
              "      <th>14</th>\n",
              "      <td>1.35</td>\n",
              "      <td>1.76</td>\n",
              "      <td>2.14</td>\n",
              "      <td>2.62</td>\n",
              "      <td>2.98</td>\n",
              "      <td>3.79</td>\n",
              "    </tr>\n",
              "    <tr>\n",
              "      <th>15</th>\n",
              "      <td>1.34</td>\n",
              "      <td>1.75</td>\n",
              "      <td>2.13</td>\n",
              "      <td>2.60</td>\n",
              "      <td>2.95</td>\n",
              "      <td>3.73</td>\n",
              "    </tr>\n",
              "    <tr>\n",
              "      <th>16</th>\n",
              "      <td>1.34</td>\n",
              "      <td>1.75</td>\n",
              "      <td>2.12</td>\n",
              "      <td>2.58</td>\n",
              "      <td>2.92</td>\n",
              "      <td>3.69</td>\n",
              "    </tr>\n",
              "    <tr>\n",
              "      <th>17</th>\n",
              "      <td>1.33</td>\n",
              "      <td>1.74</td>\n",
              "      <td>2.11</td>\n",
              "      <td>2.57</td>\n",
              "      <td>2.90</td>\n",
              "      <td>3.65</td>\n",
              "    </tr>\n",
              "    <tr>\n",
              "      <th>18</th>\n",
              "      <td>1.33</td>\n",
              "      <td>1.73</td>\n",
              "      <td>2.10</td>\n",
              "      <td>2.55</td>\n",
              "      <td>2.88</td>\n",
              "      <td>3.61</td>\n",
              "    </tr>\n",
              "    <tr>\n",
              "      <th>19</th>\n",
              "      <td>1.33</td>\n",
              "      <td>1.73</td>\n",
              "      <td>2.09</td>\n",
              "      <td>2.54</td>\n",
              "      <td>2.86</td>\n",
              "      <td>3.58</td>\n",
              "    </tr>\n",
              "    <tr>\n",
              "      <th>20</th>\n",
              "      <td>1.33</td>\n",
              "      <td>1.72</td>\n",
              "      <td>2.09</td>\n",
              "      <td>2.53</td>\n",
              "      <td>2.85</td>\n",
              "      <td>3.55</td>\n",
              "    </tr>\n",
              "    <tr>\n",
              "      <th>25</th>\n",
              "      <td>1.32</td>\n",
              "      <td>1.71</td>\n",
              "      <td>2.06</td>\n",
              "      <td>2.49</td>\n",
              "      <td>2.79</td>\n",
              "      <td>3.45</td>\n",
              "    </tr>\n",
              "    <tr>\n",
              "      <th>30</th>\n",
              "      <td>1.31</td>\n",
              "      <td>1.70</td>\n",
              "      <td>2.04</td>\n",
              "      <td>2.46</td>\n",
              "      <td>2.75</td>\n",
              "      <td>3.39</td>\n",
              "    </tr>\n",
              "    <tr>\n",
              "      <th>35</th>\n",
              "      <td>1.31</td>\n",
              "      <td>1.69</td>\n",
              "      <td>2.03</td>\n",
              "      <td>2.44</td>\n",
              "      <td>2.72</td>\n",
              "      <td>3.34</td>\n",
              "    </tr>\n",
              "    <tr>\n",
              "      <th>40</th>\n",
              "      <td>1.30</td>\n",
              "      <td>1.68</td>\n",
              "      <td>2.02</td>\n",
              "      <td>2.42</td>\n",
              "      <td>2.70</td>\n",
              "      <td>3.31</td>\n",
              "    </tr>\n",
              "    <tr>\n",
              "      <th>45</th>\n",
              "      <td>1.30</td>\n",
              "      <td>1.68</td>\n",
              "      <td>2.01</td>\n",
              "      <td>2.41</td>\n",
              "      <td>2.69</td>\n",
              "      <td>3.28</td>\n",
              "    </tr>\n",
              "    <tr>\n",
              "      <th>50</th>\n",
              "      <td>1.30</td>\n",
              "      <td>1.68</td>\n",
              "      <td>2.01</td>\n",
              "      <td>2.40</td>\n",
              "      <td>2.68</td>\n",
              "      <td>3.26</td>\n",
              "    </tr>\n",
              "    <tr>\n",
              "      <th>55</th>\n",
              "      <td>1.30</td>\n",
              "      <td>1.67</td>\n",
              "      <td>2.00</td>\n",
              "      <td>2.40</td>\n",
              "      <td>2.67</td>\n",
              "      <td>3.25</td>\n",
              "    </tr>\n",
              "    <tr>\n",
              "      <th>60</th>\n",
              "      <td>1.30</td>\n",
              "      <td>1.67</td>\n",
              "      <td>2.00</td>\n",
              "      <td>2.39</td>\n",
              "      <td>2.66</td>\n",
              "      <td>3.23</td>\n",
              "    </tr>\n",
              "    <tr>\n",
              "      <th>65</th>\n",
              "      <td>1.29</td>\n",
              "      <td>1.67</td>\n",
              "      <td>2.00</td>\n",
              "      <td>2.39</td>\n",
              "      <td>2.65</td>\n",
              "      <td>3.22</td>\n",
              "    </tr>\n",
              "    <tr>\n",
              "      <th>70</th>\n",
              "      <td>1.29</td>\n",
              "      <td>1.67</td>\n",
              "      <td>1.99</td>\n",
              "      <td>2.38</td>\n",
              "      <td>2.65</td>\n",
              "      <td>3.21</td>\n",
              "    </tr>\n",
              "    <tr>\n",
              "      <th>75</th>\n",
              "      <td>1.29</td>\n",
              "      <td>1.67</td>\n",
              "      <td>1.99</td>\n",
              "      <td>2.38</td>\n",
              "      <td>2.64</td>\n",
              "      <td>3.20</td>\n",
              "    </tr>\n",
              "    <tr>\n",
              "      <th>80</th>\n",
              "      <td>1.29</td>\n",
              "      <td>1.66</td>\n",
              "      <td>1.99</td>\n",
              "      <td>2.37</td>\n",
              "      <td>2.64</td>\n",
              "      <td>3.20</td>\n",
              "    </tr>\n",
              "    <tr>\n",
              "      <th>85</th>\n",
              "      <td>1.29</td>\n",
              "      <td>1.66</td>\n",
              "      <td>1.99</td>\n",
              "      <td>2.37</td>\n",
              "      <td>2.63</td>\n",
              "      <td>3.19</td>\n",
              "    </tr>\n",
              "    <tr>\n",
              "      <th>90</th>\n",
              "      <td>1.29</td>\n",
              "      <td>1.66</td>\n",
              "      <td>1.99</td>\n",
              "      <td>2.37</td>\n",
              "      <td>2.63</td>\n",
              "      <td>3.18</td>\n",
              "    </tr>\n",
              "    <tr>\n",
              "      <th>95</th>\n",
              "      <td>1.29</td>\n",
              "      <td>1.66</td>\n",
              "      <td>1.99</td>\n",
              "      <td>2.37</td>\n",
              "      <td>2.63</td>\n",
              "      <td>3.18</td>\n",
              "    </tr>\n",
              "    <tr>\n",
              "      <th>100</th>\n",
              "      <td>1.29</td>\n",
              "      <td>1.66</td>\n",
              "      <td>1.98</td>\n",
              "      <td>2.36</td>\n",
              "      <td>2.63</td>\n",
              "      <td>3.17</td>\n",
              "    </tr>\n",
              "    <tr>\n",
              "      <th>200</th>\n",
              "      <td>1.29</td>\n",
              "      <td>1.65</td>\n",
              "      <td>1.97</td>\n",
              "      <td>2.35</td>\n",
              "      <td>2.60</td>\n",
              "      <td>3.13</td>\n",
              "    </tr>\n",
              "    <tr>\n",
              "      <th>300</th>\n",
              "      <td>1.28</td>\n",
              "      <td>1.65</td>\n",
              "      <td>1.97</td>\n",
              "      <td>2.34</td>\n",
              "      <td>2.59</td>\n",
              "      <td>3.12</td>\n",
              "    </tr>\n",
              "    <tr>\n",
              "      <th>400</th>\n",
              "      <td>1.28</td>\n",
              "      <td>1.65</td>\n",
              "      <td>1.97</td>\n",
              "      <td>2.34</td>\n",
              "      <td>2.59</td>\n",
              "      <td>3.11</td>\n",
              "    </tr>\n",
              "    <tr>\n",
              "      <th>500</th>\n",
              "      <td>1.28</td>\n",
              "      <td>1.65</td>\n",
              "      <td>1.96</td>\n",
              "      <td>2.33</td>\n",
              "      <td>2.59</td>\n",
              "      <td>3.11</td>\n",
              "    </tr>\n",
              "    <tr>\n",
              "      <th>600</th>\n",
              "      <td>1.28</td>\n",
              "      <td>1.65</td>\n",
              "      <td>1.96</td>\n",
              "      <td>2.33</td>\n",
              "      <td>2.58</td>\n",
              "      <td>3.10</td>\n",
              "    </tr>\n",
              "    <tr>\n",
              "      <th>700</th>\n",
              "      <td>1.28</td>\n",
              "      <td>1.65</td>\n",
              "      <td>1.96</td>\n",
              "      <td>2.33</td>\n",
              "      <td>2.58</td>\n",
              "      <td>3.10</td>\n",
              "    </tr>\n",
              "    <tr>\n",
              "      <th>800</th>\n",
              "      <td>1.28</td>\n",
              "      <td>1.65</td>\n",
              "      <td>1.96</td>\n",
              "      <td>2.33</td>\n",
              "      <td>2.58</td>\n",
              "      <td>3.10</td>\n",
              "    </tr>\n",
              "    <tr>\n",
              "      <th>900</th>\n",
              "      <td>1.28</td>\n",
              "      <td>1.65</td>\n",
              "      <td>1.96</td>\n",
              "      <td>2.33</td>\n",
              "      <td>2.58</td>\n",
              "      <td>3.10</td>\n",
              "    </tr>\n",
              "    <tr>\n",
              "      <th>1000</th>\n",
              "      <td>1.28</td>\n",
              "      <td>1.65</td>\n",
              "      <td>1.96</td>\n",
              "      <td>2.33</td>\n",
              "      <td>2.58</td>\n",
              "      <td>3.10</td>\n",
              "    </tr>\n",
              "  </tbody>\n",
              "</table>\n",
              "</div>"
            ],
            "text/plain": [
              "      0.100  0.050  0.025  0.010  0.005  0.001\n",
              "2      1.89   2.92   4.30   6.96   9.92  22.33\n",
              "3      1.64   2.35   3.18   4.54   5.84  10.21\n",
              "4      1.53   2.13   2.78   3.75   4.60   7.17\n",
              "5      1.48   2.02   2.57   3.36   4.03   5.89\n",
              "6      1.44   1.94   2.45   3.14   3.71   5.21\n",
              "7      1.41   1.89   2.36   3.00   3.50   4.79\n",
              "8      1.40   1.86   2.31   2.90   3.36   4.50\n",
              "9      1.38   1.83   2.26   2.82   3.25   4.30\n",
              "10     1.37   1.81   2.23   2.76   3.17   4.14\n",
              "11     1.36   1.80   2.20   2.72   3.11   4.02\n",
              "12     1.36   1.78   2.18   2.68   3.05   3.93\n",
              "13     1.35   1.77   2.16   2.65   3.01   3.85\n",
              "14     1.35   1.76   2.14   2.62   2.98   3.79\n",
              "15     1.34   1.75   2.13   2.60   2.95   3.73\n",
              "16     1.34   1.75   2.12   2.58   2.92   3.69\n",
              "17     1.33   1.74   2.11   2.57   2.90   3.65\n",
              "18     1.33   1.73   2.10   2.55   2.88   3.61\n",
              "19     1.33   1.73   2.09   2.54   2.86   3.58\n",
              "20     1.33   1.72   2.09   2.53   2.85   3.55\n",
              "25     1.32   1.71   2.06   2.49   2.79   3.45\n",
              "30     1.31   1.70   2.04   2.46   2.75   3.39\n",
              "35     1.31   1.69   2.03   2.44   2.72   3.34\n",
              "40     1.30   1.68   2.02   2.42   2.70   3.31\n",
              "45     1.30   1.68   2.01   2.41   2.69   3.28\n",
              "50     1.30   1.68   2.01   2.40   2.68   3.26\n",
              "55     1.30   1.67   2.00   2.40   2.67   3.25\n",
              "60     1.30   1.67   2.00   2.39   2.66   3.23\n",
              "65     1.29   1.67   2.00   2.39   2.65   3.22\n",
              "70     1.29   1.67   1.99   2.38   2.65   3.21\n",
              "75     1.29   1.67   1.99   2.38   2.64   3.20\n",
              "80     1.29   1.66   1.99   2.37   2.64   3.20\n",
              "85     1.29   1.66   1.99   2.37   2.63   3.19\n",
              "90     1.29   1.66   1.99   2.37   2.63   3.18\n",
              "95     1.29   1.66   1.99   2.37   2.63   3.18\n",
              "100    1.29   1.66   1.98   2.36   2.63   3.17\n",
              "200    1.29   1.65   1.97   2.35   2.60   3.13\n",
              "300    1.28   1.65   1.97   2.34   2.59   3.12\n",
              "400    1.28   1.65   1.97   2.34   2.59   3.11\n",
              "500    1.28   1.65   1.96   2.33   2.59   3.11\n",
              "600    1.28   1.65   1.96   2.33   2.58   3.10\n",
              "700    1.28   1.65   1.96   2.33   2.58   3.10\n",
              "800    1.28   1.65   1.96   2.33   2.58   3.10\n",
              "900    1.28   1.65   1.96   2.33   2.58   3.10\n",
              "1000   1.28   1.65   1.96   2.33   2.58   3.10"
            ]
          },
          "metadata": {
            "tags": []
          },
          "execution_count": 67
        }
      ]
    },
    {
      "cell_type": "code",
      "metadata": {
        "id": "70yIwYyadooQ",
        "colab_type": "code",
        "colab": {}
      },
      "source": [
        ""
      ],
      "execution_count": 0,
      "outputs": []
    }
  ]
}