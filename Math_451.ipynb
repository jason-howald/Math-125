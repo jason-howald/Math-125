{
  "nbformat": 4,
  "nbformat_minor": 0,
  "metadata": {
    "colab": {
      "name": "Math-451.ipynb",
      "provenance": [],
      "collapsed_sections": [
        "a7DrEasRus9b"
      ],
      "toc_visible": true,
      "include_colab_link": true
    },
    "kernelspec": {
      "name": "python3",
      "display_name": "Python 3"
    }
  },
  "cells": [
    {
      "cell_type": "markdown",
      "metadata": {
        "id": "view-in-github",
        "colab_type": "text"
      },
      "source": [
        "<a href=\"https://colab.research.google.com/github/jason-howald/Math-125/blob/master/Math_451.ipynb\" target=\"_parent\"><img src=\"https://colab.research.google.com/assets/colab-badge.svg\" alt=\"Open In Colab\"/></a>"
      ]
    },
    {
      "cell_type": "markdown",
      "metadata": {
        "colab_type": "text",
        "id": "j09AbmBffWmT"
      },
      "source": [
        "# Course Resources\n"
      ]
    },
    {
      "cell_type": "markdown",
      "metadata": {
        "id": "GymW8TK-eXFX",
        "colab_type": "text"
      },
      "source": [
        "## Textbook\n"
      ]
    },
    {
      "cell_type": "markdown",
      "metadata": {
        "id": "QZdZu_hyerrn",
        "colab_type": "text"
      },
      "source": [
        "\n",
        "\n",
        "[Elementary Analysis, The Theory of Calculus](https://suny-pot.primo.exlibrisgroup.com/permalink/01SUNY_POT/17u5udo/alma991058566971104801), by Kenneth Ross (download available)"
      ]
    },
    {
      "cell_type": "markdown",
      "metadata": {
        "colab_type": "text",
        "id": "MwbfuDrLfWmc"
      },
      "source": [
        "## Homework\n"
      ]
    },
    {
      "cell_type": "markdown",
      "metadata": {
        "colab_type": "text",
        "id": "6TYVfRMufWmd"
      },
      "source": [
        "| Set        | Due           | Assignment  |\n",
        "| ---- |:-------------:| -----:|\n",
        "| 1      | Friday, 2020-01-31 | Problems 1.2 and 1.8, page 5 (pdf page 17) |\n",
        "| 2      | Friday, 2020-02-07 |  Problems 2.2 and 2.4 using the rational roots theorem.  |\n"
      ]
    },
    {
      "cell_type": "markdown",
      "metadata": {
        "id": "G50Hq6olepqY",
        "colab_type": "text"
      },
      "source": [
        "## Attendance App"
      ]
    },
    {
      "cell_type": "markdown",
      "metadata": {
        "id": "NzBI2vPJesfb",
        "colab_type": "text"
      },
      "source": [
        "Link: [howald-attendance](https://howald-attendance.firebaseapp.com/)"
      ]
    },
    {
      "cell_type": "markdown",
      "metadata": {
        "id": "BF3Z2O4aU5LE",
        "colab_type": "text"
      },
      "source": [
        "# The Peano Axioms"
      ]
    },
    {
      "cell_type": "markdown",
      "metadata": {
        "id": "LX1Z3jP1dkjb",
        "colab_type": "text"
      },
      "source": [
        "The axioms appear in **Arithmetices principia, nova methodo exposita** (The principles of arithmetic, presented by a new method; 1889) by Giuseppe Peano.\n",
        "\n",
        "1. $1 \\in {\\mathbb N}$. \n",
        "2. $n \\in {\\mathbb N} \\to n+1 \\in {\\mathbb N}$\n",
        "3. $n,m \\in {\\mathbb N} \\to (m=n \\leftrightarrow m+1=n+1)$\n",
        "4. $n \\in N \\to n+1 \\neq 1$\n",
        "5. $[A \\in \\operatorname{SET} \\,\\land\\, 1 \\in A \\,\\land\\, (\\forall x \\enspace x \\in A \\to x+1 \\in A)] \\to A = {\\mathbb N}$\n",
        "\n"
      ]
    },
    {
      "cell_type": "markdown",
      "metadata": {
        "id": "NRj-cz01oU6P",
        "colab_type": "text"
      },
      "source": [
        "\n",
        "## Caveats\n",
        "\n"
      ]
    },
    {
      "cell_type": "markdown",
      "metadata": {
        "id": "Y-7WYRMGoWT3",
        "colab_type": "text"
      },
      "source": [
        "\n",
        "* This system is 130 years old.\n",
        "* Peano gives nine axioms. Most modern authors omit four omitted because they describe equality. These are now considered purely logical axioms.\n",
        "* Notation has changed dramatically. The original form is unintelligible to most modern students!\n",
        "* Modern authors including Wikipedia now begin with $0 \\in {\\mathbb N}$."
      ]
    },
    {
      "cell_type": "markdown",
      "metadata": {
        "id": "bHnYM73zU5NQ",
        "colab_type": "text"
      },
      "source": [
        "## Questions for discussion\n"
      ]
    },
    {
      "cell_type": "markdown",
      "metadata": {
        "id": "GSd_LAilonFW",
        "colab_type": "text"
      },
      "source": [
        "\n",
        "1. What was Peano trying to do?\n",
        "2. Does anything appear to be missing?\n",
        "3. Does anything seem unnecessary?\n",
        "4. Does anything seem wrong with the axioms? or unintelligible?\n"
      ]
    },
    {
      "cell_type": "markdown",
      "metadata": {
        "id": "KGJvrXwpU4UL",
        "colab_type": "text"
      },
      "source": [
        "## Takeaway messages"
      ]
    },
    {
      "cell_type": "markdown",
      "metadata": {
        "id": "DzkJjaHPU4X3",
        "colab_type": "text"
      },
      "source": [
        "1. The axioms form half a page in a 36-page paper. They are only the seed of the work!\n",
        "2. Peano's work makes induction the central exhibit of the Museum of Arithmetic. Induction generates everything else -- addition, multiplication, exponentiation -- from the humble successor.\n",
        "3. Peano's fifth, like Euclid's fifth, is controversial, not because we doubt it but because it is an axiom of sets as much as of arithmetic.\n",
        "4. Induction is tremendously important."
      ]
    },
    {
      "cell_type": "markdown",
      "metadata": {
        "id": "BFmPybOWrB0-",
        "colab_type": "text"
      },
      "source": [
        "## Practical Significance -- We must be proficient with induction."
      ]
    },
    {
      "cell_type": "markdown",
      "metadata": {
        "id": "HfV3R7JksCT6",
        "colab_type": "text"
      },
      "source": [
        "**Philosophical note:** Is induction a \"Principle\" (the Principle of Mathematical Induction, or PMI) or a \"proof technique\"? Those who believe \"Principle\" (e.g. Dr. Person) will teach a unified PMI and ask you to cite it at the end of a proof (e.g., \"By the PMI, the proof is finished.\") Those who believe \"proof technique\" (e.g. Dr. Howald) will teach induction as a proof strategy and ask you to say \"by induction\" instead. In actual practice it makes little difference.\n"
      ]
    },
    {
      "cell_type": "markdown",
      "metadata": {
        "id": "6Fo5f7HgvMII",
        "colab_type": "text"
      },
      "source": [
        "**General Advice:** \n",
        "  \n",
        "  1. Identify a variable in the statement (with potential values in ${\\mathbb N}$) on which you can induct. Say \"We will induct on [that variable]\". Often it's n.\n",
        "  2. Try values 1, 2, 3 for that variable. Check those cases. Write a careful simple proof of case 1 (\"base case\"). You may use 0 as a base case!\n",
        "  3. Try to connect cases 4 and 3, or cases 10 and 11.\n",
        "  4. Now let n take a generic value. (Say \"Let $n \\in {\\mathbb N}$\", meaning \"Let's now talk about a single fixed but arbitrary natural number, calling it $n$.\")\n",
        "    -  Assume case n \n",
        "    -  Set up case n+1\n",
        "    -  Prove case n+1 using case n.\n",
        "  5. Say \"by induction...\" (\"by PMI\" if needed) and conclude."
      ]
    },
    {
      "cell_type": "markdown",
      "metadata": {
        "id": "ghCqMduArGx6",
        "colab_type": "text"
      },
      "source": [
        "**Problem 1: The Geometric Sum**  For $r \\in {\\mathbb R}$ and $n \\in {\\mathbb N}$:\n",
        "\n",
        "$$ 1 + r + r^2 + \\ldots + r^n = \\frac{1-r^{n+1}}{1-r}$$"
      ]
    },
    {
      "cell_type": "markdown",
      "metadata": {
        "id": "gZZpeKzdLqUT",
        "colab_type": "text"
      },
      "source": [
        "**Problem 2: Sums of Numbers**\n",
        "\n",
        "$$1 + 2 + 3 + \\ldots + n = \\frac{n(n+1)}{2}$$"
      ]
    },
    {
      "cell_type": "markdown",
      "metadata": {
        "id": "lSPi21DuyAhx",
        "colab_type": "text"
      },
      "source": [
        "**Problem 3: Sums of Cubes**\n",
        "\n",
        "$$1^3 + 2^3 + 3^3 + \\ldots + n^3 = (1+2+3+ \\ldots +n)^2$$"
      ]
    },
    {
      "cell_type": "markdown",
      "metadata": {
        "id": "-ZUvb-iIyT0z",
        "colab_type": "text"
      },
      "source": [
        "**Problem 4: Divisiblity**\n",
        "\n",
        "$$6^k + 4  \\,\\text { is divisible by }\\, 5.$$ "
      ]
    },
    {
      "cell_type": "markdown",
      "metadata": {
        "id": "U9BVifsWzUiM",
        "colab_type": "text"
      },
      "source": [
        "**Problem 5: Existence of Prime Factorization:**  Every whole number can be written as a product of prime numbers.\n",
        "\n",
        "(Is this true as phrased?)\n",
        "\n",
        "(For this we will need **strong** induction.)"
      ]
    },
    {
      "cell_type": "markdown",
      "metadata": {
        "id": "VNA1fVCpugF4",
        "colab_type": "text"
      },
      "source": [
        "# Rational Solutions"
      ]
    },
    {
      "cell_type": "markdown",
      "metadata": {
        "id": "mKI-5jqPvULo",
        "colab_type": "text"
      },
      "source": [
        "## A warm-up exercise"
      ]
    },
    {
      "cell_type": "markdown",
      "metadata": {
        "id": "MuyxLxDAukOF",
        "colab_type": "text"
      },
      "source": [
        "Write a definition of the mathematical symbol $\\displaystyle \\sqrt{c}$ which is correct in all cases. \n",
        "\n",
        "**Your answers:**\n",
        "\n",
        "1. The square root of $c$, where $c \\geq 0 $ is equal to a number $a \\geq 0$, where $a*a=c$ or $a^2=c$\n",
        "2. The square root of c ($c \\geq 0$) is equal to a nonnegative number which, when multiplied by itself, equals $c$."
      ]
    },
    {
      "cell_type": "markdown",
      "metadata": {
        "id": "a7DrEasRus9b",
        "colab_type": "text"
      },
      "source": [
        "## Spoilers "
      ]
    },
    {
      "cell_type": "markdown",
      "metadata": {
        "id": "DxQotBLUuymC",
        "colab_type": "text"
      },
      "source": [
        "Let $c \\geq 0$. Is it equivalent to say that $\\displaystyle  \\sqrt{c}$ is...\n",
        " $$\\sqrt{c} = \\text{ Any nonnegative solution to the equation } x^2 - c = 0$$"
      ]
    },
    {
      "cell_type": "markdown",
      "metadata": {
        "id": "367JHbFgvSSr",
        "colab_type": "text"
      },
      "source": [
        "## Analysis of the definition"
      ]
    },
    {
      "cell_type": "markdown",
      "metadata": {
        "id": "9k6IRoDivbMU",
        "colab_type": "text"
      },
      "source": [
        "**Question 1:** Based on your definition, is it obvious that $\\sqrt{2}$ *exists*?\n",
        "\n",
        "**Question 2:** Based on your definition, is it obvious that there is *only one* $\\sqrt{2}$? \n",
        "\n",
        "**Question 3:** How would you define $\\sqrt[3]{2}$?"
      ]
    },
    {
      "cell_type": "markdown",
      "metadata": {
        "id": "4BTmXM59va_8",
        "colab_type": "text"
      },
      "source": [
        "## Simple proof: $\\sqrt{2}$ is irrational."
      ]
    },
    {
      "cell_type": "markdown",
      "metadata": {
        "id": "g3TTu-S1Nssi",
        "colab_type": "text"
      },
      "source": [
        "Suppose $\\sqrt{2}$were rational. Then $\\sqrt{2} = p/q$ for integers $p$ and $q$. Then \n",
        "\n",
        "\\begin{align}\n",
        "\\sqrt{2} &= \\frac{p}{q}\\\\\n",
        "2 &= \\frac{p^2}{q^2}\\\\\n",
        "2q^2 &= p^2\\\\\n",
        "\\end{align}\n",
        "\n",
        "It follows that $p^2$ is even, so $p$ is even, so $p^2$ is divisible by $4$, so $q^2$ is even, so $q$ is even.\n",
        "\n",
        "So... so $p$ and $q$ are both even. So what?"
      ]
    },
    {
      "cell_type": "markdown",
      "metadata": {
        "id": "q-5Ndyu4Nsjo",
        "colab_type": "text"
      },
      "source": [
        "## The Rational Roots Theorem\n",
        "\n",
        "A generalization of the technique above.\n",
        "\n",
        "**Theorem:** Let $p(x) = c_nx^n + \\ldots + c_1x + c_0 \\in {\\mathbb Z}[x]$ be a polynomial with integer coefficients, where $c_n \\neq 0$ and $c_0 \\neq 0$. If $p$ has a rational root $r$, then $r$ can be written $p/q$ where $p | c_0$ and $q | c_n$."
      ]
    },
    {
      "cell_type": "markdown",
      "metadata": {
        "id": "7WA9x4lRNsa-",
        "colab_type": "text"
      },
      "source": [
        ""
      ]
    },
    {
      "cell_type": "code",
      "metadata": {
        "id": "V8b0ZwQjNrLl",
        "colab_type": "code",
        "outputId": "29880c57-4bac-410f-91dc-53c9d5e11ff5",
        "colab": {
          "base_uri": "https://localhost:8080/",
          "height": 34
        }
      },
      "source": [
        "evens = [2*x for x in range(20)]\n",
        "evens"
      ],
      "execution_count": 0,
      "outputs": [
        {
          "output_type": "execute_result",
          "data": {
            "text/plain": [
              "[0, 2, 4, 6, 8, 10, 12, 14, 16, 18, 20, 22, 24, 26, 28, 30, 32, 34, 36, 38]"
            ]
          },
          "metadata": {
            "tags": []
          },
          "execution_count": 1
        }
      ]
    },
    {
      "cell_type": "code",
      "metadata": {
        "id": "i4ICR8Bq71nP",
        "colab_type": "code",
        "outputId": "b20fa175-1d9c-4cb8-a384-02ead6b07b48",
        "colab": {
          "base_uri": "https://localhost:8080/",
          "height": 360
        }
      },
      "source": [
        "[p*p for p in evens]"
      ],
      "execution_count": 0,
      "outputs": [
        {
          "output_type": "execute_result",
          "data": {
            "text/plain": [
              "[0,\n",
              " 4,\n",
              " 16,\n",
              " 36,\n",
              " 64,\n",
              " 100,\n",
              " 144,\n",
              " 196,\n",
              " 256,\n",
              " 324,\n",
              " 400,\n",
              " 484,\n",
              " 576,\n",
              " 676,\n",
              " 784,\n",
              " 900,\n",
              " 1024,\n",
              " 1156,\n",
              " 1296,\n",
              " 1444]"
            ]
          },
          "metadata": {
            "tags": []
          },
          "execution_count": 2
        }
      ]
    }
  ]
}