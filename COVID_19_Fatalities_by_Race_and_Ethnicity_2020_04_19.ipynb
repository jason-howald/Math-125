{
  "nbformat": 4,
  "nbformat_minor": 0,
  "metadata": {
    "colab": {
      "name": "COVID 19 Fatalities by Race and Ethnicity 2020-04-19.ipynb",
      "provenance": [],
      "collapsed_sections": [],
      "toc_visible": true,
      "authorship_tag": "ABX9TyPR0kldT8MdQmNSPqDMp2Yf",
      "include_colab_link": true
    },
    "kernelspec": {
      "name": "python3",
      "display_name": "Python 3"
    }
  },
  "cells": [
    {
      "cell_type": "markdown",
      "metadata": {
        "id": "view-in-github",
        "colab_type": "text"
      },
      "source": [
        "<a href=\"https://colab.research.google.com/github/jason-howald/Math-125/blob/master/COVID_19_Fatalities_by_Race_and_Ethnicity_2020_04_19.ipynb\" target=\"_parent\"><img src=\"https://colab.research.google.com/assets/colab-badge.svg\" alt=\"Open In Colab\"/></a>"
      ]
    },
    {
      "cell_type": "code",
      "metadata": {
        "id": "HUQMFByBS5vw",
        "colab_type": "code",
        "colab": {}
      },
      "source": [
        "from scipy import stats\n",
        "from math import sqrt\n",
        "import pandas as pd"
      ],
      "execution_count": 0,
      "outputs": []
    },
    {
      "cell_type": "markdown",
      "metadata": {
        "id": "XW1JR-ybYmu_",
        "colab_type": "text"
      },
      "source": [
        "# Read race/ethnicity and fatality data"
      ]
    },
    {
      "cell_type": "code",
      "metadata": {
        "id": "7xIKKayAUCoG",
        "colab_type": "code",
        "outputId": "1980109d-0c3a-4797-aaee-e834ff629352",
        "colab": {
          "base_uri": "https://localhost:8080/",
          "height": 195
        }
      },
      "source": [
        "deaths = pd.read_csv(\"https://docs.google.com/spreadsheets/d/1-Ef2e_pyOOrkFMUf7bAAuGSC0M-K1hhKx6lKBbv-UFw/export?format=csv\")\n",
        "deaths"
      ],
      "execution_count": 0,
      "outputs": [
        {
          "output_type": "execute_result",
          "data": {
            "text/html": [
              "<div>\n",
              "<style scoped>\n",
              "    .dataframe tbody tr th:only-of-type {\n",
              "        vertical-align: middle;\n",
              "    }\n",
              "\n",
              "    .dataframe tbody tr th {\n",
              "        vertical-align: top;\n",
              "    }\n",
              "\n",
              "    .dataframe thead th {\n",
              "        text-align: right;\n",
              "    }\n",
              "</style>\n",
              "<table border=\"1\" class=\"dataframe\">\n",
              "  <thead>\n",
              "    <tr style=\"text-align: right;\">\n",
              "      <th></th>\n",
              "      <th>race/ethnicity</th>\n",
              "      <th>prop_observed</th>\n",
              "      <th>prop_predicted</th>\n",
              "      <th>count_observed</th>\n",
              "      <th>count_predicted</th>\n",
              "    </tr>\n",
              "  </thead>\n",
              "  <tbody>\n",
              "    <tr>\n",
              "      <th>0</th>\n",
              "      <td>hispanic</td>\n",
              "      <td>0.34</td>\n",
              "      <td>0.29</td>\n",
              "      <td>3301</td>\n",
              "      <td>2815</td>\n",
              "    </tr>\n",
              "    <tr>\n",
              "      <th>1</th>\n",
              "      <td>black</td>\n",
              "      <td>0.28</td>\n",
              "      <td>0.22</td>\n",
              "      <td>2718</td>\n",
              "      <td>2136</td>\n",
              "    </tr>\n",
              "    <tr>\n",
              "      <th>2</th>\n",
              "      <td>white</td>\n",
              "      <td>0.27</td>\n",
              "      <td>0.32</td>\n",
              "      <td>2621</td>\n",
              "      <td>3107</td>\n",
              "    </tr>\n",
              "    <tr>\n",
              "      <th>3</th>\n",
              "      <td>asian</td>\n",
              "      <td>0.07</td>\n",
              "      <td>0.14</td>\n",
              "      <td>680</td>\n",
              "      <td>1359</td>\n",
              "    </tr>\n",
              "    <tr>\n",
              "      <th>4</th>\n",
              "      <td>other</td>\n",
              "      <td>0.04</td>\n",
              "      <td>0.03</td>\n",
              "      <td>388</td>\n",
              "      <td>291</td>\n",
              "    </tr>\n",
              "  </tbody>\n",
              "</table>\n",
              "</div>"
            ],
            "text/plain": [
              "  race/ethnicity  prop_observed  ...  count_observed  count_predicted\n",
              "0       hispanic           0.34  ...            3301             2815\n",
              "1          black           0.28  ...            2718             2136\n",
              "2          white           0.27  ...            2621             3107\n",
              "3          asian           0.07  ...             680             1359\n",
              "4          other           0.04  ...             388              291\n",
              "\n",
              "[5 rows x 5 columns]"
            ]
          },
          "metadata": {
            "tags": []
          },
          "execution_count": 3
        }
      ]
    },
    {
      "cell_type": "markdown",
      "metadata": {
        "id": "NrGJqlogZRd1",
        "colab_type": "text"
      },
      "source": [
        "# Proportion of fatalities which are Hispanic -- a test"
      ]
    },
    {
      "cell_type": "markdown",
      "metadata": {
        "id": "IFcyTDxtaHSk",
        "colab_type": "text"
      },
      "source": [
        "1. Identify hypotheses:\n",
        "  - $H_A$: $p > 0.29$. More than 29% of (all potential) fatalities are hispanic: \n",
        "  - $H_0$: $p = 0.29$. 29% of fatalities (all potential) fatalities are hispanic.\n",
        "2. Know your Null Story:\n",
        "  - Hispanic people in NY are equally likely to die of COVID-19.\n",
        "  - We should expect 29% of fatalities to be Hispanic.\n",
        "  - We should expect some variability due to random chance (SE)\n",
        "  - Deviations from 29% are explained by coincidence.\n",
        "2. Calculate measurements from data\n",
        "3. Calculate SE and Z:\n",
        "$$SE = \\sqrt{\\frac{p(1-p)}{n}} $$\n",
        "$$Z = \\frac{\\text{measured} - \\text{observed}}{\\text{SE}}$$\n",
        "4. Deduce p from Z using a CDF tool.\n"
      ]
    },
    {
      "cell_type": "code",
      "metadata": {
        "id": "6eGJ6sXLZhMe",
        "colab_type": "code",
        "outputId": "5dffaf57-1493-4aaf-c6d9-18aad026534b",
        "colab": {
          "base_uri": "https://localhost:8080/",
          "height": 84
        }
      },
      "source": [
        "#Copy p and p_hat from dataframe above.\n",
        "p = 0.29\n",
        "p_hat = 0.34\n",
        "\n",
        "#Sample size n is sum of fatality counts.\n",
        "n = deaths.count_observed.sum()\n",
        "\n",
        "#Calculate SE and Z\n",
        "SE = sqrt(p*(1-p)/n)\n",
        "Z = (p_hat-p)/SE\n",
        "\n",
        "#Calculate pvalue from Z. We could use a \"CDF calculator\" such as \n",
        "#https://homepage.divms.uiowa.edu/~mbognar/applets/normal.html\n",
        "#...but we'll just use special function stats.norm.cdf \n",
        "#It gives a left tail so we use -Z instead of Z.\n",
        "pvalue = stats.norm.cdf(-Z)\n",
        "print(f\" n={n} \\n SE={SE:.4f} \\n Z={Z:.2f} \\n pvalue={pvalue:.35f}\")"
      ],
      "execution_count": 0,
      "outputs": [
        {
          "output_type": "stream",
          "text": [
            " n=9708 \n",
            " SE=0.0046 \n",
            " Z=10.86 \n",
            " pvalue=0.00000000000000000000000000092438036\n"
          ],
          "name": "stdout"
        }
      ]
    },
    {
      "cell_type": "markdown",
      "metadata": {
        "id": "UTzCibU5b9fd",
        "colab_type": "text"
      },
      "source": [
        "The test statistic Z is enormous. The p-value is microscopic.\n",
        "\n",
        "**Conclusion:** Reject the Null Hypothesis. $p>0.29$. \n",
        "\n",
        "What does this really mean in practice?"
      ]
    },
    {
      "cell_type": "markdown",
      "metadata": {
        "id": "QRF8QBMCqxvb",
        "colab_type": "text"
      },
      "source": [
        "# Comparing Black and White fatalities"
      ]
    },
    {
      "cell_type": "markdown",
      "metadata": {
        "id": "3W2HMWP1q24r",
        "colab_type": "text"
      },
      "source": [
        "## Preliminary Attempt:\n"
      ]
    },
    {
      "cell_type": "markdown",
      "metadata": {
        "id": "srJyRJiAsmqh",
        "colab_type": "text"
      },
      "source": [
        "\n",
        "1. Identify hypotheses:\n",
        "  - $H_A$: $p_1 > p_2$. $p_1-p_2>0$. Among fatalities, more are black than white.\n",
        "  - $H_0$: $p_1 = p_2$. $p_1-p_2=0$. Fatalities are equally likely to be black vs. white.\n",
        "\n",
        "This is a **poorly considered hypothesis:** \n",
        "- White New Yorkers outnumber black New Yorkers. \n",
        "- It's not natural to expect **equal** white and black fatalities. \n",
        "- It's natural to expect equal **probability of death by COVID-19** between two populations. \n"
      ]
    },
    {
      "cell_type": "markdown",
      "metadata": {
        "id": "JMvQteG9q22n",
        "colab_type": "text"
      },
      "source": [
        "## Correctly compared:\n",
        "\n",
        "$p_b =$ proportion of black people in NYC who have died of COVID-19.\n",
        "\n",
        "$p_w =$ [same for white people]\n",
        "\n",
        "These will be rather small numbers -- thousands out of millions.\n",
        "\n",
        "1. Identify hypotheses:\n",
        "  - $H_A$: $p_b-p_w>0$. In NY, blacks more likely than whites to die of COVID-19.\n",
        "  - $H_0$: $p_b-p_w=0$. In NY, blacks and whites equally likely.\n",
        "2. Know your Null Story:\n",
        "  - In NY, blacks and whites are in fact equally likely.\n",
        "  - We should expect $p_b-p_w=0$\n",
        "  - We should expect some variability due to random chance (SE of the difference of two proportions!)\n",
        "\n",
        "\n",
        "\n",
        "  - Deviations from 0% are explained by coincidence.\n",
        "2. Calculate measurements from data\n",
        "3. Calculate SE and Z:\n",
        "\\begin{align}\n",
        "SE &= \\sqrt{\\sqrt{\\frac{\\hat{p}_b(1-\\hat{p}_b)}{n_b}}^2 + \\sqrt{\\frac{\\hat{p}_w(1-\\hat{p}_w)}{n_w}}^2}\\\\\n",
        "&= \\sqrt{\\frac{\\hat{p}_b(1-\\hat{p}_b)}{n_b} + \\frac{\\hat{p}_w(1-\\hat{p}_w)}{n_w}}\\\\\n",
        "\\end{align}\n",
        "\n",
        "$$Z = \\frac{\\text{measured} - \\text{predicted}}{\\text{SE}} = \\frac{(\\hat{p}_b - \\hat{p}_w)-0}{SE}$$\n",
        "4. Deduce p from Z using a CDF tool.\n",
        "\n"
      ]
    },
    {
      "cell_type": "code",
      "metadata": {
        "id": "wsgqT3Uqt_ub",
        "colab_type": "code",
        "outputId": "c3c6c8a9-a1e8-4d85-a228-70f15679a0cc",
        "colab": {
          "base_uri": "https://localhost:8080/",
          "height": 101
        }
      },
      "source": [
        "popNYC = 8399000  #Estimated total population.\n",
        "n_b = popNYC*0.22 #From demographic data.\n",
        "n_w = popNYC*0.32 #From demographic data.\n",
        "fatal_b = 2718 #Reported fatalities, black\n",
        "fatal_w = 2621 #Reported fatalities, white\n",
        "p_hat_b = fatal_b / n_b #Fatality rate, black\n",
        "p_hat_w = fatal_w / n_w #Fatality rate, white\n",
        "\n",
        "SE = sqrt(p_hat_b*(1-p_hat_b)/n_b + p_hat_w*(1-p_hat_w)/n_w) \n",
        "#using pooled estimate: \n",
        "pooled = (fatal_b + fatal_w)/(n_b+n_w)\n",
        "#using pooled estimate: \n",
        "SE = sqrt(pooled*(1-pooled)/n_b + pooled*(1-pooled)/n_w) \n",
        "\n",
        "Z = ((p_hat_b-p_hat_w) - 0)/SE\n",
        "\n",
        "pvalue = stats.norm.cdf(-Z)\n",
        "print(f\" p_b = {p_hat_b:.6f} \\n p_w = {p_hat_w:.6f} \\n SE={SE:.8f} \\n Z={Z:.2f} \\n pvalue={pvalue:.55f}\")"
      ],
      "execution_count": 0,
      "outputs": [
        {
          "output_type": "stream",
          "text": [
            " p_b = 0.001471 \n",
            " p_w = 0.000975 \n",
            " SE=0.00003277 \n",
            " Z=15.13 \n",
            " pvalue=0.0000000000000000000000000000000000000000000000000005201\n"
          ],
          "name": "stdout"
        }
      ]
    },
    {
      "cell_type": "markdown",
      "metadata": {
        "id": "_oBy8Fo7B5AX",
        "colab_type": "text"
      },
      "source": [
        "## Pooled estimates:\n",
        "\n",
        "...but if $H_0$ says that $p_b=p_w$, why are we using two different proportions in the SE formula? \n",
        "\n",
        "**Pooled Estimate for p**:\n",
        "If $H_0$ is true, the best estimator for the proportion $p = p_b = p_w$ is the pooled estimate:\n",
        "\n",
        "$$p = \\frac{\\text{deaths}}{\\text{sample}} = \\frac{\\text{fatal}_b + \\text{fatal}_w}{n_b + n_w}$$\n",
        "\n",
        "**Using the pooled estimate**:\n",
        "\n",
        "Use wherever $p$ appears in the combined formula for SE:\n",
        "\n",
        "$$SE = \\sqrt{SE_1^2 + SE_2^2}$$\n",
        "\n"
      ]
    },
    {
      "cell_type": "markdown",
      "metadata": {
        "id": "A3m4ywZuq20w",
        "colab_type": "text"
      },
      "source": [
        "**Scientific Conclusion:**\n",
        "  - Reject Null Hypothesis.\n",
        "  - $p_b > p_w$.\n",
        "  - Fatality rate among blacks **significantly higher** than fatality rate among whites.\n",
        "\n",
        "What does **significant** mean here?\n",
        "  - Significant doesn't mean **big**, though it is big.\n",
        "  - Significant doesn't mean **important**, though it is important.\n",
        "  - Significant doesn't tell us whether it's **blameworthy**, or whom to blame. \n",
        "  - Significant means **not coincidence**, **not due to chance**. The effect is **real**.\n",
        "\n",
        "What these numbers can't tell us about higher mortality rates:\n",
        "  - Is it due to biological difference?\n",
        "  - Is it due to differences in COVID-19 treatments?\n",
        "  - Is it due to different exposure rates?\n",
        "  - Is it somebody's fault?\n",
        "  - Is it due to differences in prior comorbidities?\n",
        "  - Is it another symptom of long term systemic inequalities?\n",
        "\n",
        "**Moral Conclusion:**\n",
        "\n",
        "- We don't know why black fatalities are higher, but they are and it matters.\n",
        "- When it comes to pandemic, the goal is survival, not equality in death. \n",
        "  - We must fight the virus with isolation, manufacturing, treatment, and vaccination, guided by science. \n",
        "  - We need honest, intelligent, compassionate leadership. Trump fails. Listen to your governor. You can check your voter registration at [vote.org](https://www.vote.org/)"
      ]
    },
    {
      "cell_type": "markdown",
      "metadata": {
        "id": "kYoA_onEq2yj",
        "colab_type": "text"
      },
      "source": [
        "# The $\\chi^2$ Test for proportionality"
      ]
    },
    {
      "cell_type": "markdown",
      "metadata": {
        "id": "4XNrdlwVmsbR",
        "colab_type": "text"
      },
      "source": [
        "- We tested a proportion (Hispanic fatalities) against a fixed value. \n",
        "- We tested a difference between two proportions. \n",
        "- These tests are (arguably) **overspecific**.\n",
        "\n",
        "**The $\\chi^2$ test**: Tests proportionality of several proportions, compared to some expectation."
      ]
    },
    {
      "cell_type": "code",
      "metadata": {
        "id": "dvWqkZh0no3k",
        "colab_type": "code",
        "outputId": "42c0feef-dbbb-4e19-c28e-63e243624d52",
        "colab": {
          "base_uri": "https://localhost:8080/",
          "height": 195
        }
      },
      "source": [
        "deaths"
      ],
      "execution_count": 0,
      "outputs": [
        {
          "output_type": "execute_result",
          "data": {
            "text/html": [
              "<div>\n",
              "<style scoped>\n",
              "    .dataframe tbody tr th:only-of-type {\n",
              "        vertical-align: middle;\n",
              "    }\n",
              "\n",
              "    .dataframe tbody tr th {\n",
              "        vertical-align: top;\n",
              "    }\n",
              "\n",
              "    .dataframe thead th {\n",
              "        text-align: right;\n",
              "    }\n",
              "</style>\n",
              "<table border=\"1\" class=\"dataframe\">\n",
              "  <thead>\n",
              "    <tr style=\"text-align: right;\">\n",
              "      <th></th>\n",
              "      <th>race/ethnicity</th>\n",
              "      <th>prop_observed</th>\n",
              "      <th>prop_predicted</th>\n",
              "      <th>count_observed</th>\n",
              "      <th>count_predicted</th>\n",
              "    </tr>\n",
              "  </thead>\n",
              "  <tbody>\n",
              "    <tr>\n",
              "      <th>0</th>\n",
              "      <td>hispanic</td>\n",
              "      <td>0.34</td>\n",
              "      <td>0.29</td>\n",
              "      <td>3301</td>\n",
              "      <td>2815</td>\n",
              "    </tr>\n",
              "    <tr>\n",
              "      <th>1</th>\n",
              "      <td>black</td>\n",
              "      <td>0.28</td>\n",
              "      <td>0.22</td>\n",
              "      <td>2718</td>\n",
              "      <td>2136</td>\n",
              "    </tr>\n",
              "    <tr>\n",
              "      <th>2</th>\n",
              "      <td>white</td>\n",
              "      <td>0.27</td>\n",
              "      <td>0.32</td>\n",
              "      <td>2621</td>\n",
              "      <td>3107</td>\n",
              "    </tr>\n",
              "    <tr>\n",
              "      <th>3</th>\n",
              "      <td>asian</td>\n",
              "      <td>0.07</td>\n",
              "      <td>0.14</td>\n",
              "      <td>680</td>\n",
              "      <td>1359</td>\n",
              "    </tr>\n",
              "    <tr>\n",
              "      <th>4</th>\n",
              "      <td>other</td>\n",
              "      <td>0.04</td>\n",
              "      <td>0.03</td>\n",
              "      <td>388</td>\n",
              "      <td>291</td>\n",
              "    </tr>\n",
              "  </tbody>\n",
              "</table>\n",
              "</div>"
            ],
            "text/plain": [
              "  race/ethnicity  prop_observed  ...  count_observed  count_predicted\n",
              "0       hispanic           0.34  ...            3301             2815\n",
              "1          black           0.28  ...            2718             2136\n",
              "2          white           0.27  ...            2621             3107\n",
              "3          asian           0.07  ...             680             1359\n",
              "4          other           0.04  ...             388              291\n",
              "\n",
              "[5 rows x 5 columns]"
            ]
          },
          "metadata": {
            "tags": []
          },
          "execution_count": 6
        }
      ]
    },
    {
      "cell_type": "markdown",
      "metadata": {
        "id": "pDv_3Zlunsb4",
        "colab_type": "text"
      },
      "source": [
        "**count_observed** is based on actual fatalities. \n",
        "\n",
        "**count_predicted** is based on overall racial/ethnic proportionality, using the same number of fatalities.\n",
        "\n",
        "With the $\\chi^2$ test we can test proportionality all at once:\n",
        "\n",
        "**The $\\chi^2$ hypotheses**\n",
        "\n",
        "- $H_0$: Fatality rates across all races/ethnicities are consistent with overall population rates.\n",
        "\n",
        "- $H_A$: Fatality proportions are different from overall population rates.\n",
        "\n",
        "The $\\chi^2$ test is an all-at-once approach. It will reject $H_0$ if any inconsistencies are detected.\n",
        "\n",
        "Scipy.stats has a chi^2 test built in:\n",
        "\n",
        "```\n",
        "scipy.stats.chisquare(f_obs,f_exp)\n",
        "```\n",
        "\n",
        "This is how we use it:\n"
      ]
    },
    {
      "cell_type": "code",
      "metadata": {
        "id": "vzETd1gEUOuF",
        "colab_type": "code",
        "outputId": "9dc61474-cfa6-4445-ec4f-742d2abee546",
        "colab": {
          "base_uri": "https://localhost:8080/",
          "height": 34
        }
      },
      "source": [
        "observed = deaths['count_observed']\n",
        "expected = deaths['count_predicted']\n",
        "stats.chisquare(observed,expected)"
      ],
      "execution_count": 0,
      "outputs": [
        {
          "output_type": "execute_result",
          "data": {
            "text/plain": [
              "Power_divergenceResult(statistic=690.0889843220035, pvalue=4.8776764001883355e-148)"
            ]
          },
          "metadata": {
            "tags": []
          },
          "execution_count": 7
        }
      ]
    },
    {
      "cell_type": "markdown",
      "metadata": {
        "id": "Z1lwc4XJqKjX",
        "colab_type": "text"
      },
      "source": [
        "The $\\chi^2$ test detects difference.This data shows multiple strong trends. Notice that the p-value is absurdly small. ($4.88 \\cdot 10^{-148}$)\n",
        "\n",
        "**Conclusion:**\n",
        "\n",
        "Statistically significant difference.\n",
        "\n",
        "...But why? What to do?"
      ]
    },
    {
      "cell_type": "code",
      "metadata": {
        "id": "c5Si-Mq3VXFo",
        "colab_type": "code",
        "outputId": "1a1480cd-cac9-4cc7-d47c-61c07f25b842",
        "colab": {
          "base_uri": "https://localhost:8080/",
          "height": 34
        }
      },
      "source": [
        "stats.chi"
      ],
      "execution_count": 0,
      "outputs": [
        {
          "output_type": "execute_result",
          "data": {
            "text/plain": [
              "<scipy.stats._continuous_distns.chi_gen at 0x7f9883acfcc0>"
            ]
          },
          "metadata": {
            "tags": []
          },
          "execution_count": 8
        }
      ]
    }
  ]
}